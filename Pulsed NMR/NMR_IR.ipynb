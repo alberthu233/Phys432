{
 "cells": [
  {
   "cell_type": "markdown",
   "metadata": {},
   "source": [
    "# Pulsed NMR Individual Analysis\n",
    "\n",
    "Use this template to carry out the analysis tasks for the Noise experiment.  For reference, here are links to recommended Python resources: the [Whirlwind Tour of Python](https://jakevdp.github.io/WhirlwindTourOfPython/) and the [Python Data Science Handbook](https://jakevdp.github.io/PythonDataScienceHandbook/) both by Jake VanderPlas.\n",
    "\n",
    "There is no need to calculate uncertainties for this analysis.  The goals here are only to see and understand general trends.  You may want to use the [LMFit](https://lmfit.github.io/lmfit-py/) package."
   ]
  },
  {
   "cell_type": "code",
   "execution_count": 1,
   "metadata": {},
   "outputs": [],
   "source": [
    "# Run this cell with Shift-Enter, and wait until the asterisk changes to a number, i.e., [*] becomes [1]\n",
    "import numpy as np\n",
    "import scipy.constants as const\n",
    "import uncertainties as unc\n",
    "import matplotlib.pyplot as plt\n",
    "import pandas as pd\n",
    "%matplotlib inline\n",
    "\n",
    "from lmfit.models import LinearModel\n",
    "from lmfit.models import QuadraticModel"
   ]
  },
  {
   "cell_type": "markdown",
   "metadata": {},
   "source": [
    "## Prior to working on this notebook:\n",
    "\n",
    "1. Obtain the measurements of $T_1$ and $T_2$ half-life times for the series of measurements taken from Experiment 2, the effects of paramagnetic ions on the decay constants.  The data are ordered in terms of dilution \"number\".\n",
    "\n",
    "2. Obtain the measurements of the delay times versus echo amplitudes from Experiment 3.  The data should be in a simple .csv spreadsheet.\n",
    "\n",
    "### Then...\n",
    "3. Import the data tables for each experiment.\n",
    "\n",
    "### For Experiment 2:\n",
    "\n",
    "4. Convert the \"dilution number\" to ion concentration in moles/liter (\"molarity\").  See below for details.\n",
    "\n",
    "5. Convert the half-life times to $T_1$, $T_2$ values.\n",
    "\n",
    "6. Plot $T_1$, and $T_2$ versus concentration on the same graph.  Select axis types (linear or log) to make the relationship look like a line.  \n",
    "\n",
    "7. in your group document, compare your graph to the results reported by Hahn.\n",
    "\n",
    "### For Experiment 3:\n",
    "\n",
    "8. Convert the delay times to echo-position times.  (What is the relationship between the time of the B pulse and the echo produced by it?)\n",
    "\n",
    "9. Plot the echo amplitudes versus echo times.\n",
    "\n",
    "10. Fit the data set to the function given in the instructions on page 25 and 26 to obtain the constant $K$.  For $T_2$ use the result for water, and fix it so that it does not get adjusted by the fitting routine.\n",
    "\n"
   ]
  },
  {
   "cell_type": "markdown",
   "metadata": {},
   "source": [
    "## Import data tables\n",
    "\n",
    "Display them so that you know they are correct."
   ]
  },
  {
   "cell_type": "code",
   "execution_count": 2,
   "metadata": {},
   "outputs": [
    {
     "name": "stdout",
     "output_type": "stream",
     "text": [
      "Index(['Sample', 'Frequency (MHz)', 'T1 half life (ms)', 'T1 unc (ms)',\n",
      "       'T2 half life (ms)', 'T2 unc (ms)'],\n",
      "      dtype='object')\n",
      "Index(['fraction denominator', 'Relative Concentration', 'Frequency (MHz)',\n",
      "       'T1 half life (ms)', 'T1 unc (ms)', 'T2 half life (ms)', 'T2 unc (ms)'],\n",
      "      dtype='object')\n"
     ]
    }
   ],
   "source": [
    "exp1 = pd.read_excel('data.xlsx', sheet_name='exp1')\n",
    "print(exp1.keys())\n",
    "exp2 = pd.read_excel('data.xlsx', sheet_name='exp2')\n",
    "print(exp2.keys())"
   ]
  },
  {
   "cell_type": "code",
   "execution_count": 3,
   "metadata": {},
   "outputs": [
    {
     "name": "stdout",
     "output_type": "stream",
     "text": [
      "                     Sample  Frequency (MHz)  T1 half life (ms)  T1 unc (ms)  \\\n",
      "0               Mineral Oil           14.766               20.0         0.05   \n",
      "1  Vaseline petroleum jelly           14.766               19.0         0.05   \n",
      "2                  glycerin           14.766               25.3         0.05   \n",
      "3                     water           14.766             4000.0         5.00   \n",
      "4             Ethyl alcohol           14.766              910.0         0.50   \n",
      "\n",
      "   T2 half life (ms)  T2 unc (ms)  \n",
      "0                 27         0.05  \n",
      "1                 20         0.05  \n",
      "2                 34         0.05  \n",
      "3                 96         0.05  \n",
      "4                120         0.50  \n",
      "   fraction denominator  Relative Concentration  Frequency (MHz)  \\\n",
      "0                     4                0.250000         14.76633   \n",
      "1                    16                0.062500         14.76633   \n",
      "2                    64                0.015625         14.76633   \n",
      "3                   256                0.003906         14.76633   \n",
      "4                  1024                0.000977         14.76633   \n",
      "\n",
      "   T1 half life (ms)  T1 unc (ms)  T2 half life (ms)  T2 unc (ms)  \n",
      "0                2.3        0.005                3.2        0.005  \n",
      "1               14.0        0.050               10.4        0.050  \n",
      "2               96.0        0.050               82.0        0.050  \n",
      "3              162.0        0.500              129.0        0.500  \n",
      "4              300.0        0.500              337.0        0.500  \n"
     ]
    }
   ],
   "source": [
    "print(exp1.head())\n",
    "print(exp2.head())"
   ]
  },
  {
   "cell_type": "markdown",
   "metadata": {},
   "source": [
    "## Experiment 2\n",
    "\n",
    "### Massage the collected data\n",
    "\n",
    "Convert the measured half-life times to $T_1$ and $T_2$ values, and convert the **Dilution number** to concentration.\n",
    "\n",
    "Each **Dilution number** represents a dilution by a factor of 4 (i.e., one drop of solution mixed with 3 drops of pure water).  So of the original concentration is $C_0$, the first dilution is $C_0/4$ the second dilution is $C_0/4^2$, and in general the $n\\,$th dilution is $C_0/4^n$.\n",
    "\n",
    "The compound used in solution is Cupric Sulfate, 5-Hydrate (CuSO<sub>4</sub>$\\cdot$5H<sub>2</sub>O) which has a formula weight of 249.68 g/mol and a slubility of 32 g/100ml of water at 20C.  Calculate the concentration in molarity (mol/liter) of the copper ions."
   ]
  },
  {
   "cell_type": "code",
   "execution_count": 4,
   "metadata": {},
   "outputs": [],
   "source": [
    "def model_fit(xdata, ydata, model=LinearModel()):\n",
    "    params = model.guess(ydata, x=xdata)\n",
    "    fit = model.fit(ydata, params, x=xdata)\n",
    "    return fit.params"
   ]
  },
  {
   "cell_type": "code",
   "execution_count": 5,
   "metadata": {},
   "outputs": [
    {
     "name": "stderr",
     "output_type": "stream",
     "text": [
      "C:\\Users\\alber\\AppData\\Local\\Temp/ipykernel_307132/109373256.py:3: SettingWithCopyWarning: \n",
      "A value is trying to be set on a copy of a slice from a DataFrame.\n",
      "Try using .loc[row_indexer,col_indexer] = value instead\n",
      "\n",
      "See the caveats in the documentation: https://pandas.pydata.org/pandas-docs/stable/user_guide/indexing.html#returning-a-view-versus-a-copy\n",
      "  df['t1'] = df['T1 half life (ms)'] / np.log(2)\n",
      "C:\\Users\\alber\\AppData\\Local\\Temp/ipykernel_307132/109373256.py:4: SettingWithCopyWarning: \n",
      "A value is trying to be set on a copy of a slice from a DataFrame.\n",
      "Try using .loc[row_indexer,col_indexer] = value instead\n",
      "\n",
      "See the caveats in the documentation: https://pandas.pydata.org/pandas-docs/stable/user_guide/indexing.html#returning-a-view-versus-a-copy\n",
      "  df['t1_unc'] = df['T1 unc (ms)'] / np.log(2)\n",
      "C:\\Users\\alber\\AppData\\Local\\Temp/ipykernel_307132/109373256.py:5: SettingWithCopyWarning: \n",
      "A value is trying to be set on a copy of a slice from a DataFrame.\n",
      "Try using .loc[row_indexer,col_indexer] = value instead\n",
      "\n",
      "See the caveats in the documentation: https://pandas.pydata.org/pandas-docs/stable/user_guide/indexing.html#returning-a-view-versus-a-copy\n",
      "  df['t2'] = df['T2 half life (ms)'] / np.log(2)\n",
      "C:\\Users\\alber\\AppData\\Local\\Temp/ipykernel_307132/109373256.py:6: SettingWithCopyWarning: \n",
      "A value is trying to be set on a copy of a slice from a DataFrame.\n",
      "Try using .loc[row_indexer,col_indexer] = value instead\n",
      "\n",
      "See the caveats in the documentation: https://pandas.pydata.org/pandas-docs/stable/user_guide/indexing.html#returning-a-view-versus-a-copy\n",
      "  df['t2_unc'] = df['T2 unc (ms)'] / np.log(2)\n"
     ]
    }
   ],
   "source": [
    "df = exp2.dropna()\n",
    "# divide t1 and t2 half-life by ln(2) to get the T1 and T2 decay constants\n",
    "df['t1'] = df['T1 half life (ms)'] / np.log(2)\n",
    "df['t1_unc'] = df['T1 unc (ms)'] / np.log(2)\n",
    "df['t2'] = df['T2 half life (ms)'] / np.log(2)\n",
    "df['t2_unc'] = df['T2 unc (ms)'] / np.log(2)"
   ]
  },
  {
   "cell_type": "code",
   "execution_count": 6,
   "metadata": {},
   "outputs": [],
   "source": [
    "# assuming the original cuso4 solution is fully saturated, find C_0 \n",
    "formula_weight = 249.68\n",
    "solubility = 32\n",
    "concentration_0 = solubility / formula_weight * 10 "
   ]
  },
  {
   "cell_type": "code",
   "execution_count": 7,
   "metadata": {},
   "outputs": [
    {
     "name": "stderr",
     "output_type": "stream",
     "text": [
      "C:\\Users\\alber\\AppData\\Local\\Temp/ipykernel_307132/3201670223.py:2: SettingWithCopyWarning: \n",
      "A value is trying to be set on a copy of a slice from a DataFrame.\n",
      "Try using .loc[row_indexer,col_indexer] = value instead\n",
      "\n",
      "See the caveats in the documentation: https://pandas.pydata.org/pandas-docs/stable/user_guide/indexing.html#returning-a-view-versus-a-copy\n",
      "  df['concentration'] = concentration_0 / df['fraction denominator']\n"
     ]
    },
    {
     "data": {
      "text/plain": [
       "<bound method NDFrame.head of    fraction denominator  Relative Concentration  Frequency (MHz)  \\\n",
       "0                     4                0.250000         14.76633   \n",
       "1                    16                0.062500         14.76633   \n",
       "2                    64                0.015625         14.76633   \n",
       "3                   256                0.003906         14.76633   \n",
       "4                  1024                0.000977         14.76633   \n",
       "5                  4096                0.000246         14.76633   \n",
       "\n",
       "   T1 half life (ms)  T1 unc (ms)  T2 half life (ms)  T2 unc (ms)  \\\n",
       "0                2.3        0.005                3.2        0.005   \n",
       "1               14.0        0.050               10.4        0.050   \n",
       "2               96.0        0.050               82.0        0.050   \n",
       "3              162.0        0.500              129.0        0.500   \n",
       "4              300.0        0.500              337.0        0.500   \n",
       "5             1650.0        5.000              198.0        0.500   \n",
       "\n",
       "            t1    t1_unc          t2    t2_unc  concentration  \n",
       "0     3.318199  0.007213    4.616624  0.007213       0.320410  \n",
       "1    20.197731  0.072135   15.004028  0.072135       0.080103  \n",
       "2   138.498724  0.072135  118.300993  0.072135       0.020026  \n",
       "3   233.716597  0.721348  186.107660  0.721348       0.005006  \n",
       "4   432.808512  0.721348  486.188229  0.721348       0.001252  \n",
       "5  2380.446817  7.213475  285.653618  0.721348       0.000313  >"
      ]
     },
     "execution_count": 7,
     "metadata": {},
     "output_type": "execute_result"
    }
   ],
   "source": [
    "# find the concentration of dilute solution\n",
    "df['concentration'] = concentration_0 / df['fraction denominator']\n",
    "df.head"
   ]
  },
  {
   "cell_type": "code",
   "execution_count": 8,
   "metadata": {},
   "outputs": [],
   "source": [
    "# apply fit to the data\n",
    "t1_fit_params = model_fit(np.log(df['concentration']), np.log(df['t1']))\n",
    "t2_fit_params = model_fit(np.log(df['concentration']), np.log(df['t2']))\n"
   ]
  },
  {
   "cell_type": "code",
   "execution_count": 9,
   "metadata": {},
   "outputs": [
    {
     "data": {
      "text/html": [
       "<table><tr><th> name </th><th> value </th><th> standard error </th><th> relative error </th><th> initial value </th><th> min </th><th> max </th><th> vary </th></tr><tr><td> slope </td><td> -0.87789087 </td><td>  0.09252978 </td><td> (10.54%) </td><td> -0.8778908721042279 </td><td>        -inf </td><td>         inf </td><td> True </td></tr><tr><td> intercept </td><td>  0.69750447 </td><td>  0.47902445 </td><td> (68.68%) </td><td> 0.6975044733818687 </td><td>        -inf </td><td>         inf </td><td> True </td></tr></table>"
      ],
      "text/plain": [
       "Parameters([('slope', <Parameter 'slope', value=-0.8778908721042279 +/- 0.0925, bounds=[-inf:inf]>), ('intercept', <Parameter 'intercept', value=0.6975044733818687 +/- 0.479, bounds=[-inf:inf]>)])"
      ]
     },
     "execution_count": 9,
     "metadata": {},
     "output_type": "execute_result"
    }
   ],
   "source": [
    "t1_fit_params"
   ]
  },
  {
   "cell_type": "markdown",
   "metadata": {},
   "source": [
    "### Plot it\n",
    "\n",
    "Make a plot that shows the relationship as a line (or close to it), by adjusting the axis types used to make the plot.\n",
    "\n",
    "To see how to change the axis types, look here: [pyplot.xscale()](https://matplotlib.org/stable/api/_as_gen/matplotlib.pyplot.xscale.html#matplotlib.pyplot.xscale)"
   ]
  },
  {
   "cell_type": "code",
   "execution_count": 10,
   "metadata": {},
   "outputs": [
    {
     "name": "stderr",
     "output_type": "stream",
     "text": [
      "C:\\Users\\alber\\AppData\\Local\\Temp/ipykernel_307132/1085452846.py:3: RuntimeWarning: divide by zero encountered in log\n",
      "  t1_fit = np.exp(t1_fit_params['slope'] * np.log(xfit) + t1_fit_params['intercept'])\n",
      "C:\\Users\\alber\\AppData\\Local\\Temp/ipykernel_307132/1085452846.py:4: RuntimeWarning: divide by zero encountered in log\n",
      "  t2_fit = np.exp(t2_fit_params['slope'] * np.log(xfit) + t2_fit_params['intercept'])\n"
     ]
    },
    {
     "data": {
      "text/plain": [
       "<matplotlib.legend.Legend at 0x1e947c2fbb0>"
      ]
     },
     "execution_count": 10,
     "metadata": {},
     "output_type": "execute_result"
    },
    {
     "data": {
      "image/png": "[encoded data removed]",
      "text/plain": [
       "<Figure size 864x432 with 2 Axes>"
      ]
     },
     "metadata": {
      "needs_background": "light"
     },
     "output_type": "display_data"
    }
   ],
   "source": [
    "xfit = np.linspace(0, df['concentration'].max(), 1000)\n",
    "# calulate the t1 and t2 decay constants from the fit parameters\n",
    "t1_fit = np.exp(t1_fit_params['slope'] * np.log(xfit) + t1_fit_params['intercept'])\n",
    "t2_fit = np.exp(t2_fit_params['slope'] * np.log(xfit) + t2_fit_params['intercept'])\n",
    "# plot concentration vs. T1 and T2 decay constants and their fits line\n",
    "# set scale to log-log for better visualization\n",
    "# plot error bars for T1 and T2 decay constants\n",
    "fig, ax = plt.subplots(1, 2, figsize=(12, 6))\n",
    "ax[0].plot(df['concentration'], df['t1'], 'o', label='T1 data')\n",
    "ax[0].plot(xfit, t1_fit, '-', label='fit')\n",
    "ax[0].errorbar(df['concentration'], df['t1'], yerr=df['t1_unc'], fmt='none', label='T1 error')\n",
    "ax[0].set_xlabel('concentration (mol/L)')\n",
    "ax[0].set_ylabel('T1 (ms)')\n",
    "ax[0].set_yscale('log')\n",
    "ax[0].set_xscale('log')\n",
    "ax[0].legend()\n",
    "ax[1].plot(df['concentration'], df['t2'], 'o', label='T2 data')\n",
    "ax[1].plot(xfit, t2_fit, '-', label='fit')\n",
    "ax[1].errorbar(df['concentration'], df['t2'], yerr=df['t2_unc'], fmt='none', label='T2 error')\n",
    "ax[1].set_xlabel('concentration (mol/L)')\n",
    "ax[1].set_ylabel('T2 (ms)')\n",
    "ax[1].set_yscale('log')\n",
    "ax[1].set_xscale('log')\n",
    "ax[1].legend()\n"
   ]
  },
  {
   "cell_type": "markdown",
   "metadata": {},
   "source": [
    "## Experiment 3: diffusion study\n",
    "\n",
    "### Massage the collected data\n",
    "\n",
    "Rescale the **Delay_time** data to give the echo-position time."
   ]
  },
  {
   "cell_type": "code",
   "execution_count": null,
   "metadata": {},
   "outputs": [],
   "source": []
  },
  {
   "cell_type": "markdown",
   "metadata": {},
   "source": [
    "### Plot it\n",
    "\n",
    "Plot the echo peak voltage vs. echo-position time."
   ]
  },
  {
   "cell_type": "code",
   "execution_count": null,
   "metadata": {},
   "outputs": [],
   "source": []
  },
  {
   "cell_type": "markdown",
   "metadata": {},
   "source": [
    "###  Fit it\n",
    "\n",
    "Use the LMFit Model class to fit the data to equation (15) in the instructions.  In this data set the number of pulses between the first FID and the echo, $n=1$.  In your fit function, set the value of $T_2$ to be a constant (not a parameter that is adjustable by the fit), and set it to the $T_2$ value obtained for pure water.\n",
    "\n",
    "Hint: to estimate a starting value for $K$, calculate the value of the function for the time $t$ at which it is half the height it is at $t=0$.  This is like a \"half-life\" even though the decay is not a simple exponential."
   ]
  },
  {
   "cell_type": "code",
   "execution_count": 1,
   "metadata": {},
   "outputs": [],
   "source": [
    "## Define the fit function\n",
    "\n",
    "\n",
    "## pull in the Model class and set up the fit\n",
    "\n",
    "from lmfit import Model\n",
    "\n",
    "## Fit and plot\n"
   ]
  },
  {
   "cell_type": "markdown",
   "metadata": {},
   "source": [
    "### Optional: Estimate the self-diffusion constant of water\n",
    "\n",
    "According to equation (16) in the instructions, \n",
    "\n",
    "$$ K = \\frac{\\gamma^2}{12}\\left(\\frac{\\partial B_0}{\\partial z}\\right)^2 D$$\n",
    "\n",
    "and $\\gamma\\Delta B_0 = \\Delta\\omega_0$, the spread of precession frequencies that determines $T_2^*$.  From this information and the width of the simple free induction decay, you can use the result for $K$ to estimate $D$ the diffusion constant for water (at room temperature).\n",
    "\n",
    "Try this, and compare your result against Hahn's: [Hahn, E. L., \"Spin echoes\", Phys. Rev., 80, 580-594 (1950)](http://courses.washington.edu/phys431/restricted/Hahn_PR80.pdf), p. 589."
   ]
  },
  {
   "cell_type": "code",
   "execution_count": null,
   "metadata": {},
   "outputs": [],
   "source": []
  }
 ],
 "metadata": {
  "kernelspec": {
   "display_name": "Python 3",
   "language": "python",
   "name": "python3"
  },
  "language_info": {
   "codemirror_mode": {
    "name": "ipython",
    "version": 3
   },
   "file_extension": ".py",
   "mimetype": "text/x-python",
   "name": "python",
   "nbconvert_exporter": "python",
   "pygments_lexer": "ipython3",
   "version": "3.8.12"
  }
 },
 "nbformat": 4,
 "nbformat_minor": 2
}
