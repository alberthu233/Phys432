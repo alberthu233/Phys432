{
 "cells": [
  {
   "cell_type": "markdown",
   "metadata": {},
   "source": [
    "# Individual Analysis for the Hydrogen Laser Spectroscopy Experiment\n",
    "\n",
    "Use this template to carry out the analysis tasks for the experiment.  You may need to consult the documentation for different Python packages.  Also recommended: the [Whirlwind Tour of Python](https://jakevdp.github.io/WhirlwindTourOfPython/) and the [Python Data Science Handbook](https://jakevdp.github.io/PythonDataScienceHandbook/) both by Jake VanderPlas.\n",
    "\n",
    "We will also be using [**LMFit**](https://lmfit.github.io/lmfit-py/) for curve fitting \n",
    "and the [Uncertainties](https://pythonhosted.org/uncertainties/) package for calculating statistical uncertainty. "
   ]
  },
  {
   "cell_type": "code",
   "execution_count": 1,
   "metadata": {},
   "outputs": [],
   "source": [
    "# Run this cell with Shift-Enter, and wait until the asterisk changes to a number, i.e., [*] becomes [1]\n",
    "import numpy as np\n",
    "import scipy.constants as const\n",
    "import uncertainties as unc\n",
    "import uncertainties.unumpy as up\n",
    "import matplotlib.pyplot as plt\n",
    "import pandas as pd\n",
    "%matplotlib inline\n",
    "import uncertainties as unc"
   ]
  },
  {
   "cell_type": "code",
   "execution_count": 2,
   "metadata": {},
   "outputs": [],
   "source": [
    "# Set up plot defaults\n",
    "import matplotlib as mpl\n",
    "mpl.rcParams['figure.figsize'] = 11.0,8.0  # Roughly 11 cm wde by 8 cm high\n",
    "mpl.rcParams['font.size'] = 12.0 # Use 12 point font"
   ]
  },
  {
   "cell_type": "markdown",
   "metadata": {},
   "source": [
    "## Summary of tasks\n",
    "\n",
    "### Prior to working on this notebook\n",
    "\n",
    "1. Watch the videos on the experiment and work out exercises 1, 2 and 10.  These concern the Balmer-$\\alpha$ wavelength, the term diagram of the $n=2$ to $n=3$ transitions and selection rules, and the overall layout of Doppler-free beam-crosssing method of laser spectrosopy.\n",
    "\n",
    "\n",
    "2. Download the PDFs of the chart-recorder scans for the two hydrogen spectrum data runs (one for left-to-right scan, the other for right-to-left).\n",
    "\n",
    "\n",
    "3. Extract from each scan the positions in paper-grid units of (1) the peaks in the Fabry-Perot (F-P) mirror output, and (2) positions of the 5 obvious peaks in the probe-beam measurement. Positions should be estimated to 1/10 of the smallest grid unit.  The F-P peak positions do not need uncertainties, but you should assign an uncertainty to the prob-beam peak positions.\n",
    "\n",
    "\n",
    "4. Download the file containing the Fabry-Perot mirror separation measurements.  Note that these measurements are in inches, due to the caliper used to make the measurements.\n",
    "\n",
    "\n",
    "5. Create spreadsheets with these data to be read into the notebook for further processing.  Recommended: one .xlsx file with 5 tabs (worksheets), or 5 separate .csv files, one for the mirror measurements and one for each set of peak position measurements.  Read them in with either Pandas `read_csv()` or `read_excel()`.\n",
    "\n",
    "\n",
    "### Tasks for this notebook\n",
    "\n",
    "Convert the mirror separation measurements to meters and calculate the separation with its uncertainty (\"standard deviation of the mean\").  Also calculate the free spectral range in Hz. \n",
    "\n",
    "For each scan:\n",
    "\n",
    "<blockquote>\n",
    "Plot the F-P peak index (y-axis) versus its position (x-axis).  Fit this to a 3rd-order polynomial to produce calibration coefficients.\n",
    "\n",
    "Create a calibration function that takes paper-grid positions and returns position in FSR units (relative to an arbitrary origin).\n",
    "\n",
    "Use the calibration function to convert probe-beam peak positions to positions in FSR units. Incorporate the uncertainty in the probe-beam peak positions to get uncertainty in FSR units.  \n",
    "\n",
    "Convert the FSR units to frequency using the free spectral range, including uncertaities.\n",
    "\n",
    "Finally, calculate the frequency separations requested, among them the \"Lamb shift\" which is the difference between the 2S<sub>1/2</sub>-3P<sub>3/2</sub> and 2P<sub>1/2</sub>-3D<sub>3/2</sub> transitions.\n",
    "</blockquote>\n",
    "\n",
    "Once the above has been completed for both scans, combine the results to obtain the the best values for the fine-structure frequency separations, and compare the measurements to the expected values.  (these can be found in the experiment instructions.)"
   ]
  },
  {
   "cell_type": "markdown",
   "metadata": {},
   "source": [
    "## Read in the hydrogen spectrum data\n",
    "\n",
    "You will probably want 5 different DataFrames: (1) Mirror separations, (2) F-P peaks for right-to-left, (3) probe-beam peaks for right-to-left, (4) F-P peaks for left-to-right, and (5) probe-beam peaks for right-to-left.\n",
    "\n",
    "One way to do it is create a different CSV file for each DataFrame.  Another way is to put all 5 Sheets into a single Excel file.  You can read the whole file into a Pandas \"OrderedDict\" with the command \n",
    "\n",
    "    `Hdata = pd.read_excel('Hydrogen_spectrum_data.xlsx', sheet_name = None)`\n",
    "\n",
    "Then each sheet will be in its own DataFrame that you would reference with `Hdata['sheet-name']`."
   ]
  },
  {
   "cell_type": "code",
   "execution_count": 29,
   "metadata": {},
   "outputs": [],
   "source": [
    "# Read in the data\n",
    "Hdata = pd.read_excel('Hydrogen_spectrum_data.xlsx', sheet_name = None)\n"
   ]
  },
  {
   "cell_type": "code",
   "execution_count": 4,
   "metadata": {},
   "outputs": [
    {
     "name": "stdout",
     "output_type": "stream",
     "text": [
      "dict_keys(['MR_space', 'FB_LR', 'FB_RL', 'PB_LR', 'PB_RL'])\n",
      "       Top     Near      Far\n",
      "0  100.508  100.508  100.508\n",
      "1  101.508  101.508  101.008\n",
      "2  101.508  101.508  100.508\n",
      "      X    Y  Y_plot\n",
      "0   6.0  8.9    78.9\n",
      "1  11.5  8.2    78.2\n",
      "2  17.2  7.2    77.2\n",
      "3  22.1  6.0    76.0\n",
      "4  27.5  4.1    74.1\n",
      "      X     Y  Y_plot\n",
      "0   8.0  10.9    80.9\n",
      "1  45.8  10.0    80.0\n",
      "2  22.5   9.2    79.2\n",
      "3  29.5   7.5    77.5\n",
      "4  36.5   6.0    76.0\n",
      "      X  X_err     Y  Y_err\n",
      "0  37.1    0.1  78.0    0.1\n",
      "1  56.7    0.1   8.0    0.1\n",
      "2  62.5    0.1  21.5    0.1\n",
      "3  68.2    0.1  30.1    0.1\n",
      "4  72.1    0.1  38.0    0.1\n",
      "      X  X_err     Y  Y_err\n",
      "0  46.5    0.1  83.5    0.1\n",
      "1  67.0    0.1   9.9    0.1\n",
      "2  72.8    0.1  21.5    0.1\n",
      "3  78.2    0.1  29.7    0.1\n",
      "4  82.1    0.1  38.6    0.1\n"
     ]
    }
   ],
   "source": [
    "# Display it (This helps remember the keys to your columns, etc.)\n",
    "print(Hdata.keys())\n",
    "print(Hdata['MR_space'].head())\n",
    "print(Hdata['FB_LR'].head())\n",
    "print(Hdata['FB_RL'].head())\n",
    "print(Hdata['PB_LR'].head())\n",
    "print(Hdata['PB_RL'].head())"
   ]
  },
  {
   "cell_type": "markdown",
   "metadata": {},
   "source": [
    "##  Mirror separation & Free spectral range\n",
    "\n",
    "Convert inches to meters.  Hint: look up `scipy.constants.inch` in SciPy.\n",
    "\n",
    "Calculate the mean and standard deviation of the mean and save in an uncertainty object.\n",
    "\n",
    "Calculate the free spectral range in Hz (with uncertainty).  Remember, the free spectral range is \n",
    "\n",
    "$$ FSR = \\frac{c}{2d}$$"
   ]
  },
  {
   "cell_type": "code",
   "execution_count": 12,
   "metadata": {
    "scrolled": true
   },
   "outputs": [
    {
     "name": "stdout",
     "output_type": "stream",
     "text": [
      "       Top     Near      Far\n",
      "0  100.508  100.508  100.508\n",
      "1  101.508  101.508  101.008\n",
      "2  101.508  101.508  100.508\n"
     ]
    }
   ],
   "source": [
    "# Show a table of the mirror separation values\n",
    "print(Hdata['MR_space'].head())\n",
    "# contatenate the mirror separation values into a single array\n",
    "MR_space = np.concatenate(Hdata['MR_space'].to_numpy()) - 0.508\n"
   ]
  },
  {
   "cell_type": "code",
   "execution_count": 13,
   "metadata": {},
   "outputs": [
    {
     "name": "stdout",
     "output_type": "stream",
     "text": [
      "Fabry-Perot mirror separation = 10.05±0.05 cm\n",
      "F-P set free spectral range = 1492±7 MHz\n"
     ]
    }
   ],
   "source": [
    "# Calculate the mean, standard deviation, and standard deviation of the mean \n",
    "# of the mirror separation values in meters.\n",
    "\n",
    "# Calculate the mean of the mirror separation values in meters.\n",
    "FP_sep = np.mean(MR_space)/1e3\n",
    "FP_sep_stderr = np.std(MR_space)/1e3\n",
    "FP_sep_sem = FP_sep_stderr/np.sqrt(MR_space)\n",
    "\n",
    "# Build an uncertainty object to hold the mirror separation with its uncertainty.\n",
    "# Print the mirrr separation and uncertainty in cm.\n",
    "\n",
    "uFP_sep = unc.ufloat(FP_sep, FP_sep_stderr)\n",
    "print('Fabry-Perot mirror separation = {:.1uP} cm'.format(uFP_sep/const.centi))\n",
    "\n",
    "# Print the free spectral range in MHz\n",
    "\n",
    "uFSR = const.c/(2*uFP_sep)\n",
    "print('F-P set free spectral range = {:.1uP} MHz'.format(uFSR/const.mega))"
   ]
  },
  {
   "cell_type": "markdown",
   "metadata": {},
   "source": [
    "## Left-to-right scan analysis\n",
    "\n",
    "### Fit the FP peaks\n",
    "\n",
    "First, make a table of the FP peak locations.\n",
    "\n",
    "Create an array of **indices** of the F-P peak locations. \n",
    "\n",
    "Fit the index array (y-axis) vs. peak locations (x-axis) to a 3rd-order polynomial to obtain calibration constants. "
   ]
  },
  {
   "cell_type": "code",
   "execution_count": 14,
   "metadata": {},
   "outputs": [],
   "source": [
    "# The indices of the Pandas DataFrame are given by the attribute 'index'\n",
    "# To get an array with these indices, make a Python list, e.g., 'list(DataFrame.index)'\n",
    "ind = list(Hdata['FB_LR'].index)\n"
   ]
  },
  {
   "cell_type": "markdown",
   "metadata": {},
   "source": [
    "Then set up the fitting."
   ]
  },
  {
   "cell_type": "code",
   "execution_count": 15,
   "metadata": {},
   "outputs": [],
   "source": [
    "# Use a polynmial of degree=3\n",
    "from lmfit.models import PolynomialModel\n",
    "\n",
    "curve = PolynomialModel(degree=3)\n",
    "\n",
    "# Recommended: Make a function to do the work, with model as a passed object.\n",
    "# The return is the fit parameters structure\n",
    "\n",
    "def poly_fit_and_plot(xdata, ydata, model=PolynomialModel(degree=3)):\n",
    "    '''\n",
    "    Fit a line or curve, and plot/show the fit results.\n",
    "    The function returns a parameters object with the fit parameters\n",
    "    '''\n",
    "    ## Fill in function\n",
    "    params = model.guess(ydata, x=xdata)\n",
    "    fit = model.fit(ydata, params, x=xdata)\n",
    "    ## plot the fit\n",
    "    plt.plot(xdata, ydata, 'o', label='data')\n",
    "    plt.plot(xdata, fit.best_fit, '-', label='fit')\n",
    "    plt.legend()\n",
    "    plt.show()\n",
    "    return fit"
   ]
  },
  {
   "cell_type": "markdown",
   "metadata": {},
   "source": [
    "Execute the fitting."
   ]
  },
  {
   "cell_type": "code",
   "execution_count": 16,
   "metadata": {
    "scrolled": false
   },
   "outputs": [
    {
     "data": {
      "image/png": "[encoded data removed]",
      "text/plain": [
       "<Figure size 792x576 with 1 Axes>"
      ]
     },
     "metadata": {
      "needs_background": "light"
     },
     "output_type": "display_data"
    },
    {
     "data": {
      "text/html": [
       "<table><tr><th> name </th><th> value </th><th> standard error </th><th> relative error </th><th> initial value </th><th> min </th><th> max </th><th> vary </th></tr><tr><td> c0 </td><td> -1.09313171 </td><td>  0.04041599 </td><td> (3.70%) </td><td> -1.0931317065886725 </td><td>        -inf </td><td>         inf </td><td> True </td></tr><tr><td> c1 </td><td>  0.17889678 </td><td>  0.00290895 </td><td> (1.63%) </td><td> 0.17889678062742886 </td><td>        -inf </td><td>         inf </td><td> True </td></tr><tr><td> c2 </td><td>  2.8547e-04 </td><td>  5.7227e-05 </td><td> (20.05%) </td><td> 0.00028546646636779915 </td><td>        -inf </td><td>         inf </td><td> True </td></tr><tr><td> c3 </td><td> -2.3362e-06 </td><td>  3.2417e-07 </td><td> (13.88%) </td><td> -2.3362079959935977e-06 </td><td>        -inf </td><td>         inf </td><td> True </td></tr></table>"
      ],
      "text/plain": [
       "Parameters([('c0', <Parameter 'c0', value=-1.0931317065886725 +/- 0.0404, bounds=[-inf:inf]>), ('c1', <Parameter 'c1', value=0.17889678062742886 +/- 0.00291, bounds=[-inf:inf]>), ('c2', <Parameter 'c2', value=0.00028546646636779915 +/- 5.72e-05, bounds=[-inf:inf]>), ('c3', <Parameter 'c3', value=-2.3362079959935977e-06 +/- 3.24e-07, bounds=[-inf:inf]>)])"
      ]
     },
     "execution_count": 16,
     "metadata": {},
     "output_type": "execute_result"
    }
   ],
   "source": [
    "# Carry out the fit, show the results, and save the fit parameters\n",
    "# fit the first and third column of the FB data to a polynomial of degree=3\n",
    "FP_LR_fit = poly_fit_and_plot(Hdata['FB_LR']['X'],ind)\n",
    "FP_LR_fit.params"
   ]
  },
  {
   "cell_type": "markdown",
   "metadata": {},
   "source": [
    "### Make the calibration function\n",
    "\n",
    "You can use the same method to make the calibration curve as you used in teh Zeeman effect experiment, e.g., use `eval()` with the fit coefficients."
   ]
  },
  {
   "cell_type": "code",
   "execution_count": 17,
   "metadata": {},
   "outputs": [
    {
     "name": "stdout",
     "output_type": "stream",
     "text": [
      "0.9983811304679944\n"
     ]
    }
   ],
   "source": [
    "# Define a calibration function.  Hint: use eval()\n",
    "def cal_LR(X):\n",
    "  ## Fill in function\n",
    "  return FP_LR_fit.eval(x=X)\n",
    "\n",
    "# Test\n",
    "print(cal_LR(11.5))"
   ]
  },
  {
   "cell_type": "markdown",
   "metadata": {},
   "source": [
    "### Calculate the spectrum \n",
    "\n",
    "Pull the probe-beam locations and uncertainties from the spreadsheet for the left-to-right scan.  Then apply the calibration function to obtsin the peak positions and uncertainties in free-spectral-range units (FSR units), and then apply the free spectral range to obtain the spectrum in Hz (relative to an arbitrary origin).  Put these all into a single table, and diplay it.  (Recommended: Make a Pandas DataFrame.)"
   ]
  },
  {
   "cell_type": "code",
   "execution_count": 11,
   "metadata": {},
   "outputs": [
    {
     "name": "stdout",
     "output_type": "stream",
     "text": [
      "Left-to-right scan probe-beam peak locations:\n"
     ]
    },
    {
     "data": {
      "text/html": [
       "<div>\n",
       "<style scoped>\n",
       "    .dataframe tbody tr th:only-of-type {\n",
       "        vertical-align: middle;\n",
       "    }\n",
       "\n",
       "    .dataframe tbody tr th {\n",
       "        vertical-align: top;\n",
       "    }\n",
       "\n",
       "    .dataframe thead th {\n",
       "        text-align: right;\n",
       "    }\n",
       "</style>\n",
       "<table border=\"1\" class=\"dataframe\">\n",
       "  <thead>\n",
       "    <tr style=\"text-align: right;\">\n",
       "      <th></th>\n",
       "      <th>Paper</th>\n",
       "      <th>FSR</th>\n",
       "      <th>MHz</th>\n",
       "      <th>Rel MHz</th>\n",
       "    </tr>\n",
       "  </thead>\n",
       "  <tbody>\n",
       "    <tr>\n",
       "      <th>0</th>\n",
       "      <td>37.10+/-0.10</td>\n",
       "      <td>5.818+/-0.019</td>\n",
       "      <td>(8.63+/-0.05)e+03</td>\n",
       "      <td>0.0+/-0</td>\n",
       "    </tr>\n",
       "    <tr>\n",
       "      <th>1</th>\n",
       "      <td>56.70+/-0.10</td>\n",
       "      <td>9.542+/-0.019</td>\n",
       "      <td>(1.416+/-0.007)e+04</td>\n",
       "      <td>(5.53+/-0.05)e+03</td>\n",
       "    </tr>\n",
       "    <tr>\n",
       "      <th>2</th>\n",
       "      <td>62.50+/-0.10</td>\n",
       "      <td>10.633+/-0.019</td>\n",
       "      <td>(1.578+/-0.008)e+04</td>\n",
       "      <td>(7.15+/-0.05)e+03</td>\n",
       "    </tr>\n",
       "    <tr>\n",
       "      <th>3</th>\n",
       "      <td>68.20+/-0.10</td>\n",
       "      <td>11.694+/-0.019</td>\n",
       "      <td>(1.735+/-0.009)e+04</td>\n",
       "      <td>(8.72+/-0.06)e+03</td>\n",
       "    </tr>\n",
       "    <tr>\n",
       "      <th>4</th>\n",
       "      <td>72.10+/-0.10</td>\n",
       "      <td>12.414+/-0.018</td>\n",
       "      <td>(1.842+/-0.009)e+04</td>\n",
       "      <td>(9.79+/-0.06)e+03</td>\n",
       "    </tr>\n",
       "  </tbody>\n",
       "</table>\n",
       "</div>"
      ],
      "text/plain": [
       "          Paper             FSR                  MHz            Rel MHz\n",
       "0  37.10+/-0.10   5.818+/-0.019    (8.63+/-0.05)e+03            0.0+/-0\n",
       "1  56.70+/-0.10   9.542+/-0.019  (1.416+/-0.007)e+04  (5.53+/-0.05)e+03\n",
       "2  62.50+/-0.10  10.633+/-0.019  (1.578+/-0.008)e+04  (7.15+/-0.05)e+03\n",
       "3  68.20+/-0.10  11.694+/-0.019  (1.735+/-0.009)e+04  (8.72+/-0.06)e+03\n",
       "4  72.10+/-0.10  12.414+/-0.018  (1.842+/-0.009)e+04  (9.79+/-0.06)e+03"
      ]
     },
     "execution_count": 11,
     "metadata": {},
     "output_type": "execute_result"
    }
   ],
   "source": [
    "# Make uncertainty array of probe-beam paper-unit locations with uncertainty\n",
    "# Use up.uarray()\n",
    "PB_LR_data = up.uarray(Hdata['PB_LR']['X'], Hdata['PB_LR']['X_err'])\n",
    "PB_LR_fit = cal_LR(PB_LR_data)\n",
    "PB_LR_fsr = PB_LR_fit*uFSR/const.mega\n",
    "PB_LR_fsr_rel = PB_LR_fsr-min(PB_LR_fsr)\n",
    "# Build Pandas DataFrame with spectrum in paper units, FSR units (applying calibration), \n",
    "# MHz (applying free spectral range), and MHz relative to the largest, lowest-frequency peak.\n",
    "Left_Right_spectrum = pd.DataFrame({'Paper': PB_LR_data,\n",
    "                                    'FSR':   PB_LR_fit,\n",
    "                                    'MHz':   PB_LR_fsr ,\n",
    "                                    'Rel MHz': PB_LR_fsr_rel\n",
    "                                   })\n",
    "\n",
    "# Show the table\n",
    "print('Left-to-right scan probe-beam peak locations:')\n",
    "Left_Right_spectrum"
   ]
  },
  {
   "cell_type": "markdown",
   "metadata": {},
   "source": [
    "### Calculate separations\n",
    "\n",
    "Make a table that shows the following separations in MHz (with uncertainty):\n",
    "\n",
    "* The Lamb shift: 2S<sub>1/2</sub> - 3P<sub>3/2</sub> to 2P<sub>1/2</sub> - 3D<sub>3/2</sub> frequency separation (with uncertainty) for both scans.\n",
    "* The 2P<sub>3/2</sub>  - 3D<sub>5/2</sub> to 2P<sub>1/2</sub> - 3D<sub>3/2</sub>  frequency separation, i.e., highest frequency peak to lowest frequency peak (with uncertainty) for both scans.\n",
    "* The 2P<sub>3/2</sub>  - 3D<sub>5/2</sub> to 2S<sub>1/2</sub> - 3P<sub>1/2</sub> frequency separation, i.e., tallest to smallest peak (with uncertaintyl) for both scans.\n"
   ]
  },
  {
   "cell_type": "code",
   "execution_count": 20,
   "metadata": {},
   "outputs": [
    {
     "data": {
      "text/plain": [
       "1067.520999123757+/-39.02628115126002"
      ]
     },
     "execution_count": 20,
     "metadata": {},
     "output_type": "execute_result"
    }
   ],
   "source": [
    "Left_Right_spectrum['Rel MHz'][4] - Left_Right_spectrum['Rel MHz'][3]"
   ]
  },
  {
   "cell_type": "code",
   "execution_count": 21,
   "metadata": {},
   "outputs": [
    {
     "data": {
      "text/html": [
       "<div>\n",
       "<style scoped>\n",
       "    .dataframe tbody tr th:only-of-type {\n",
       "        vertical-align: middle;\n",
       "    }\n",
       "\n",
       "    .dataframe tbody tr th {\n",
       "        vertical-align: top;\n",
       "    }\n",
       "\n",
       "    .dataframe thead th {\n",
       "        text-align: right;\n",
       "    }\n",
       "</style>\n",
       "<table border=\"1\" class=\"dataframe\">\n",
       "  <thead>\n",
       "    <tr style=\"text-align: right;\">\n",
       "      <th></th>\n",
       "      <th>Separations</th>\n",
       "      <th>L-R (MHz)</th>\n",
       "    </tr>\n",
       "  </thead>\n",
       "  <tbody>\n",
       "    <tr>\n",
       "      <th>0</th>\n",
       "      <td>2S1/2-3P3/2 to 2P1/2-3D3/2</td>\n",
       "      <td>(1.07+/-0.04)e+03</td>\n",
       "    </tr>\n",
       "    <tr>\n",
       "      <th>1</th>\n",
       "      <td>2P3/2-3D5/2 to 2P1/2-3D3/2</td>\n",
       "      <td>(9.79+/-0.06)e+03</td>\n",
       "    </tr>\n",
       "    <tr>\n",
       "      <th>2</th>\n",
       "      <td>2P3/2-3D5/2 to 2S1/2-3P1/2</td>\n",
       "      <td>(5.53+/-0.05)e+03</td>\n",
       "    </tr>\n",
       "  </tbody>\n",
       "</table>\n",
       "</div>"
      ],
      "text/plain": [
       "                  Separations          L-R (MHz)\n",
       "0  2S1/2-3P3/2 to 2P1/2-3D3/2  (1.07+/-0.04)e+03\n",
       "1  2P3/2-3D5/2 to 2P1/2-3D3/2  (9.79+/-0.06)e+03\n",
       "2  2P3/2-3D5/2 to 2S1/2-3P1/2  (5.53+/-0.05)e+03"
      ]
     },
     "execution_count": 21,
     "metadata": {},
     "output_type": "execute_result"
    }
   ],
   "source": [
    "# Calculate the separations and make a table.\n",
    "# Recommended: Build a DataFrame.  You can use it to add the calculated separations from the \n",
    "# other scan below and then the averages of both to compare to accepted results.\n",
    "\n",
    "# Here is a list of the separation labels\n",
    "seps_list = ['2S1/2-3P3/2 to 2P1/2-3D3/2', '2P3/2-3D5/2 to 2P1/2-3D3/2','2P3/2-3D5/2 to 2S1/2-3P1/2']\n",
    "\n",
    "# Make a list of the separations in MHz\n",
    "LR_list = [Left_Right_spectrum['Rel MHz'][4] - Left_Right_spectrum['Rel MHz'][3],\n",
    "           Left_Right_spectrum['Rel MHz'][4] - Left_Right_spectrum['Rel MHz'][0],\n",
    "           Left_Right_spectrum['Rel MHz'][1] - Left_Right_spectrum['Rel MHz'][0],]\n",
    "\n",
    "# Construct the DataFrame\n",
    "Results = pd.DataFrame({'Separations': seps_list,\n",
    "                            'L-R (MHz)':LR_list})\n",
    "\n",
    "# Display\n",
    "Results"
   ]
  },
  {
   "cell_type": "markdown",
   "metadata": {},
   "source": [
    "## Right-to-left scan analysis\n",
    "\n",
    "Repeat the above process for the right-to-left scan.\n",
    "\n",
    "### Fit the F-P peaks\n",
    "\n",
    "<i>Points will be taken off if you redo tasks (function declarations, imports) that do not need to be redone.</i>"
   ]
  },
  {
   "cell_type": "code",
   "execution_count": 31,
   "metadata": {},
   "outputs": [],
   "source": [
    "# Make a table of the F-P peaks, and index array\n",
    "ind_rl = list(Hdata['FB_RL'].index)\n"
   ]
  },
  {
   "cell_type": "code",
   "execution_count": 30,
   "metadata": {},
   "outputs": [
    {
     "data": {
      "image/png": "[encoded data removed]",
      "text/plain": [
       "<Figure size 792x576 with 1 Axes>"
      ]
     },
     "metadata": {
      "needs_background": "light"
     },
     "output_type": "display_data"
    }
   ],
   "source": [
    "# Fit to a polynomial of degree=3, and show the results and save the parameters\n",
    "FP_RL_fit = poly_fit_and_plot(Hdata['FB_RL']['X'],ind_rl)"
   ]
  },
  {
   "cell_type": "markdown",
   "metadata": {},
   "source": [
    "### Make the calibration for the R-L scan\n"
   ]
  },
  {
   "cell_type": "code",
   "execution_count": null,
   "metadata": {},
   "outputs": [],
   "source": [
    "# Define and test the calibration function\n",
    "\n",
    "# Test\n"
   ]
  },
  {
   "cell_type": "markdown",
   "metadata": {},
   "source": [
    "### Calculate the spectrum\n",
    "\n",
    "Carry out the calculation and table construction for the right-to-left scan."
   ]
  },
  {
   "cell_type": "code",
   "execution_count": 35,
   "metadata": {},
   "outputs": [
    {
     "name": "stdout",
     "output_type": "stream",
     "text": [
      "Right-to-left scan probe-beam peak locations:\n"
     ]
    },
    {
     "data": {
      "text/html": [
       "<div>\n",
       "<style scoped>\n",
       "    .dataframe tbody tr th:only-of-type {\n",
       "        vertical-align: middle;\n",
       "    }\n",
       "\n",
       "    .dataframe tbody tr th {\n",
       "        vertical-align: top;\n",
       "    }\n",
       "\n",
       "    .dataframe thead th {\n",
       "        text-align: right;\n",
       "    }\n",
       "</style>\n",
       "<table border=\"1\" class=\"dataframe\">\n",
       "  <thead>\n",
       "    <tr style=\"text-align: right;\">\n",
       "      <th></th>\n",
       "      <th>Paper</th>\n",
       "      <th>FSR</th>\n",
       "      <th>MHz</th>\n",
       "      <th>Rel MHz</th>\n",
       "    </tr>\n",
       "  </thead>\n",
       "  <tbody>\n",
       "    <tr>\n",
       "      <th>0</th>\n",
       "      <td>46.50+/-0.10</td>\n",
       "      <td>5.789+/-0.017</td>\n",
       "      <td>(8.63+/-0.05)e+03</td>\n",
       "      <td>0.0+/-0</td>\n",
       "    </tr>\n",
       "    <tr>\n",
       "      <th>1</th>\n",
       "      <td>67.00+/-0.10</td>\n",
       "      <td>9.541+/-0.019</td>\n",
       "      <td>(1.423+/-0.007)e+04</td>\n",
       "      <td>(5.60+/-0.05)e+03</td>\n",
       "    </tr>\n",
       "    <tr>\n",
       "      <th>2</th>\n",
       "      <td>72.80+/-0.10</td>\n",
       "      <td>10.674+/-0.020</td>\n",
       "      <td>(1.592+/-0.008)e+04</td>\n",
       "      <td>(7.29+/-0.05)e+03</td>\n",
       "    </tr>\n",
       "    <tr>\n",
       "      <th>3</th>\n",
       "      <td>78.20+/-0.10</td>\n",
       "      <td>11.755+/-0.020</td>\n",
       "      <td>(1.753+/-0.009)e+04</td>\n",
       "      <td>(8.90+/-0.06)e+03</td>\n",
       "    </tr>\n",
       "    <tr>\n",
       "      <th>4</th>\n",
       "      <td>82.10+/-0.10</td>\n",
       "      <td>12.551+/-0.021</td>\n",
       "      <td>(1.872+/-0.009)e+04</td>\n",
       "      <td>(1.009+/-0.006)e+04</td>\n",
       "    </tr>\n",
       "  </tbody>\n",
       "</table>\n",
       "</div>"
      ],
      "text/plain": [
       "          Paper             FSR                  MHz              Rel MHz\n",
       "0  46.50+/-0.10   5.789+/-0.017    (8.63+/-0.05)e+03              0.0+/-0\n",
       "1  67.00+/-0.10   9.541+/-0.019  (1.423+/-0.007)e+04    (5.60+/-0.05)e+03\n",
       "2  72.80+/-0.10  10.674+/-0.020  (1.592+/-0.008)e+04    (7.29+/-0.05)e+03\n",
       "3  78.20+/-0.10  11.755+/-0.020  (1.753+/-0.009)e+04    (8.90+/-0.06)e+03\n",
       "4  82.10+/-0.10  12.551+/-0.021  (1.872+/-0.009)e+04  (1.009+/-0.006)e+04"
      ]
     },
     "execution_count": 35,
     "metadata": {},
     "output_type": "execute_result"
    }
   ],
   "source": [
    "PB_RL_data = up.uarray(Hdata['PB_RL']['X'], Hdata['PB_RL']['X_err'])\n",
    "PB_RL_fit = FP_RL_fit.eval(x=PB_RL_data)\n",
    "PB_RL_fsr = PB_RL_fit*uFSR/const.mega\n",
    "PB_RL_fsr_rel = PB_RL_fsr-min(PB_RL_fsr)\n",
    "# Build Pandas DataFrame with spectrum in paper units, FSR units (applying calibration), \n",
    "# MHz (applying free spectral range), and MHz relative to the largest, lowest-frequency peak.\n",
    "Right_Left_spectrum = pd.DataFrame({'Paper': PB_RL_data,\n",
    "                                    'FSR':   PB_RL_fit,\n",
    "                                    'MHz':   PB_RL_fsr ,\n",
    "                                    'Rel MHz': PB_RL_fsr_rel\n",
    "                                   })\n",
    "\n",
    "# Show the table\n",
    "print('Right-to-left scan probe-beam peak locations:')\n",
    "Right_Left_spectrum\n"
   ]
  },
  {
   "cell_type": "markdown",
   "metadata": {},
   "source": [
    "### Calculate separations\n",
    "\n",
    "\n",
    "Calculate the separations for the right-to-left scan.\n",
    "\n",
    "Then include this column in the existing DataFrame so that the results can be directly compared"
   ]
  },
  {
   "cell_type": "code",
   "execution_count": 40,
   "metadata": {},
   "outputs": [
    {
     "name": "stderr",
     "output_type": "stream",
     "text": [
      "C:\\Users\\alber\\AppData\\Local\\Temp/ipykernel_55248/4163078069.py:1: FutureWarning: Dropping of nuisance columns in DataFrame reductions (with 'numeric_only=None') is deprecated; in a future version this will raise TypeError.  Select only valid columns before calling the reduction.\n",
      "  Results[['R-L (MHz)','L-R (MHz)']].mean(axis=1)\n"
     ]
    },
    {
     "data": {
      "text/plain": [
       "0   NaN\n",
       "1   NaN\n",
       "2   NaN\n",
       "dtype: float64"
      ]
     },
     "execution_count": 40,
     "metadata": {},
     "output_type": "execute_result"
    }
   ],
   "source": [
    "Results[['R-L (MHz)','L-R (MHz)']].mean(axis=1)"
   ]
  },
  {
   "cell_type": "code",
   "execution_count": 44,
   "metadata": {},
   "outputs": [
    {
     "data": {
      "text/html": [
       "<div>\n",
       "<style scoped>\n",
       "    .dataframe tbody tr th:only-of-type {\n",
       "        vertical-align: middle;\n",
       "    }\n",
       "\n",
       "    .dataframe tbody tr th {\n",
       "        vertical-align: top;\n",
       "    }\n",
       "\n",
       "    .dataframe thead th {\n",
       "        text-align: right;\n",
       "    }\n",
       "</style>\n",
       "<table border=\"1\" class=\"dataframe\">\n",
       "  <thead>\n",
       "    <tr style=\"text-align: right;\">\n",
       "      <th></th>\n",
       "      <th>Separations</th>\n",
       "      <th>L-R (MHz)</th>\n",
       "      <th>R-L (MHz)</th>\n",
       "      <th>Average</th>\n",
       "      <th>Expected (MHz)</th>\n",
       "    </tr>\n",
       "  </thead>\n",
       "  <tbody>\n",
       "    <tr>\n",
       "      <th>0</th>\n",
       "      <td>2S1/2-3P3/2 to 2P1/2-3D3/2</td>\n",
       "      <td>(1.07+/-0.04)e+03</td>\n",
       "      <td>(1.19+/-0.04)e+03</td>\n",
       "      <td>1127+/-29</td>\n",
       "      <td>1086</td>\n",
       "    </tr>\n",
       "    <tr>\n",
       "      <th>1</th>\n",
       "      <td>2P3/2-3D5/2 to 2P1/2-3D3/2</td>\n",
       "      <td>(9.79+/-0.06)e+03</td>\n",
       "      <td>(1.009+/-0.006)e+04</td>\n",
       "      <td>(9.94+/-0.04)e+03</td>\n",
       "      <td>9890</td>\n",
       "    </tr>\n",
       "    <tr>\n",
       "      <th>2</th>\n",
       "      <td>2P3/2-3D5/2 to 2S1/2-3P1/2</td>\n",
       "      <td>(5.53+/-0.05)e+03</td>\n",
       "      <td>(5.60+/-0.05)e+03</td>\n",
       "      <td>5561+/-33</td>\n",
       "      <td>5583</td>\n",
       "    </tr>\n",
       "  </tbody>\n",
       "</table>\n",
       "</div>"
      ],
      "text/plain": [
       "                  Separations          L-R (MHz)            R-L (MHz)  \\\n",
       "0  2S1/2-3P3/2 to 2P1/2-3D3/2  (1.07+/-0.04)e+03    (1.19+/-0.04)e+03   \n",
       "1  2P3/2-3D5/2 to 2P1/2-3D3/2  (9.79+/-0.06)e+03  (1.009+/-0.006)e+04   \n",
       "2  2P3/2-3D5/2 to 2S1/2-3P1/2  (5.53+/-0.05)e+03    (5.60+/-0.05)e+03   \n",
       "\n",
       "             Average  Expected (MHz)  \n",
       "0          1127+/-29            1086  \n",
       "1  (9.94+/-0.04)e+03            9890  \n",
       "2          5561+/-33            5583  "
      ]
     },
     "execution_count": 44,
     "metadata": {},
     "output_type": "execute_result"
    }
   ],
   "source": [
    "# Calculate the separations in the R to L scan, and add a column to the data frame \n",
    "# for separation measurements\n",
    "\n",
    "# Make a list of the separations in MHz\n",
    "\n",
    "# Include it as a column\n",
    "Results['R-L (MHz)'] = [Right_Left_spectrum['Rel MHz'][4] - Right_Left_spectrum['Rel MHz'][3],\n",
    "                        Right_Left_spectrum['Rel MHz'][4] - Right_Left_spectrum['Rel MHz'][0],\n",
    "                        Right_Left_spectrum['Rel MHz'][1] - Right_Left_spectrum['Rel MHz'][0],]\n",
    "\n",
    "# Calculate the average from each scan, and add the column of average sepaations\n",
    "Results['Average'] = [(a+b)/2 for a, b in zip(Results['L-R (MHz)'], Results['R-L (MHz)'] )]\n",
    "\n",
    "# Add a column of the expected separations.  See the experiment instructions for values.\n",
    "Results['Expected (MHz)'] = [1086, 9890, 5583]\n",
    "\n",
    "# Show the completed table\n",
    "Results"
   ]
  },
  {
   "cell_type": "markdown",
   "metadata": {},
   "source": [
    "## Present final values\n",
    "\n",
    "The DataFrame tables have limited control over their formatting.  Assuming you have used the names provided, execute the following print commands to make a tbale with increased precision for comparison to expected results."
   ]
  },
  {
   "cell_type": "code",
   "execution_count": 45,
   "metadata": {},
   "outputs": [
    {
     "name": "stdout",
     "output_type": "stream",
     "text": [
      "\n",
      "  Fine-structure line separation        |  Measured (MHz) |  Best known value (MHz)\n",
      "----------------------------------------|-----------------|-------------------------\n",
      "2S1/2-3P3/2 to 2P1/2-3D3/2 (Lamb shift) |   1127±29       |   1086\n",
      "2P3/2-3D5/2 to 2P1/2-3D3/2              |   9937±43       |   9890\n",
      "2P3/2-3D5/2 to 2S1/2-3P1/2              |   5561±33       |   5583\n"
     ]
    }
   ],
   "source": [
    "print('\\n  Fine-structure line separation        |  Measured (MHz) |  Best known value (MHz)')\n",
    "print('----------------------------------------|-----------------|-------------------------')\n",
    "print('{:s} (Lamb shift) |   {:.2uP}       |   {:.0f}'.format(Results.iloc[0,0],Results['Average'][0],\n",
    "                                                             Results['Expected (MHz)'][0]))\n",
    "print('{:s}              |   {:.2uP}       |   {:.0f}'.format(Results.iloc[1,0],Results['Average'][1],\n",
    "                                                             Results['Expected (MHz)'][1]))\n",
    "print('{:s}              |   {:.2uP}       |   {:.0f}'.format(Results.iloc[2,0],Results['Average'][2],\n",
    "                                                             Results['Expected (MHz)'][2]))"
   ]
  }
 ],
 "metadata": {
  "interpreter": {
   "hash": "e2f6deba557dc7d8d1b4cf161216c8920ae0cc2d6a027649b4e5d7481f4460e1"
  },
  "kernelspec": {
   "display_name": "Python 3.8.12 ('tensorflow-gpu')",
   "language": "python",
   "name": "python3"
  },
  "language_info": {
   "codemirror_mode": {
    "name": "ipython",
    "version": 3
   },
   "file_extension": ".py",
   "mimetype": "text/x-python",
   "name": "python",
   "nbconvert_exporter": "python",
   "pygments_lexer": "ipython3",
   "version": "3.8.12"
  }
 },
 "nbformat": 4,
 "nbformat_minor": 2
}
