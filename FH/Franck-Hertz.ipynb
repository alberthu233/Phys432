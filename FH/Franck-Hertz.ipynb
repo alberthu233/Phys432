{
 "cells": [
  {
   "cell_type": "markdown",
   "metadata": {},
   "source": [
    "# Individual Analysis for the Franck-Hertz Experiment\n",
    "\n",
    "Use this template to carry out the analysis tasks for the experiment.  You may need to consult the documentation for different Python packages.  Also recommended: the [Whirlwind Tour of Python](https://jakevdp.github.io/WhirlwindTourOfPython/) and the [Python Data Science Handbook](https://jakevdp.github.io/PythonDataScienceHandbook/) both by Jake VanderPlas.\n",
    "\n",
    "We will also be using [**LMFit**](https://lmfit.github.io/lmfit-py/) for curve fitting \n",
    "and the [Uncertainties](https://pythonhosted.org/uncertainties/) package for calculating statistical uncertainty. "
   ]
  },
  {
   "cell_type": "code",
   "execution_count": 10,
   "metadata": {},
   "outputs": [],
   "source": [
    "# Run this cell with Shift-Enter, and wait until the asterisk changes to a number, i.e., [*] becomes [1]\n",
    "import numpy as np\n",
    "import scipy.constants as const\n",
    "import uncertainties as unc\n",
    "import uncertainties.unumpy as up\n",
    "import matplotlib.pyplot as plt\n",
    "import pandas as pd\n",
    "%matplotlib inline\n",
    "\n",
    "from lmfit.models import LinearModel\n",
    "from lmfit.models import QuadraticModel"
   ]
  },
  {
   "cell_type": "markdown",
   "metadata": {},
   "source": [
    "## Summary of tasks\n",
    "\n",
    "### Prior to working on this notebook\n",
    "\n",
    "1. Watch the videos on the experiment and work out at least exercises 2 and 3 on the mean free path of electrons in the mercury F-H tube given in the experiment instructions.  These will be relevant to the \"RSB\" method of analyzing Franck-Hertz data.\n",
    "\n",
    "\n",
    "2. Read through the paper by Rapior, Sengstock and Baev (RSB) linked on the experiment page: Rapior, G., K. Sengstock, and V Baev, <a href=\"http://courses.washington.edu/phys432/restricted/AJP_rapior_sengstock_baev.pdf\" target=\"_blank\">\"New features of the Franck-Hertz experiment,\"</a> <i>Am. J. Phys.,</i> <strong>74</strong>, p. 423-428 (2006).  Also study the lecture notes on this paper.\n",
    "\n",
    "\n",
    "3. Download the PDFs of the chart-recorder scans for the two Franck-Hertz data runs (one for Hg, the other for Ne).\n",
    "\n",
    "\n",
    "4. Extract from the scans the positions in paper-grid units of (1) calibration marks, (2) positions of anode current minima (\"troughs\") and maxima (\"peaks\"), and, for neon (3) positions of the small features (tiny peaks and troughs) seen in the neon-scan lock-in amp output.  The separations of similar features will be used to estimate the 3s-3p state separation.  **You do not need to estimate the uncertainty in these measurements**, but make your estimates of position to within 1/10 of small square.\n",
    "\n",
    "\n",
    "5. Assign numbers to each anode current feature, for example, 1, 2, 3,... for peak 1, peak 2, peak 3... and similarly for the troughs.  (Not necessary for the Ne lock-in scan; these will be analyzed differently.)\n",
    "\n",
    "\n",
    "6. Create spreadsheets with these data to be read into the notebook for further processing.\n",
    "\n",
    "### Tasks for this notebook\n",
    "\n",
    "For the neon data set:\n",
    "\n",
    "* Plot and fit the calibration data.  Create a calibration function to turn feature positions into voltages.\n",
    "\n",
    "\n",
    "* Apply the calibration to all of the position measurements.\n",
    "\n",
    "\n",
    "* For the anode current peaks and troughs, analyze each set in three different ways:\n",
    "  1. Fit a line through the peak/trough position vs. number.  From this obtain the average energy difference.\n",
    "  2. Fit a quadratic through the peak/trough positions vs. number.  From this obtain the fit parameters to use in the RSB formalism.\n",
    "  3. Take first differences of the peak/trough positions, and plot/fit these to a line.  The fit line should extrapolate to the energy of the first excited state, acccording to the RSB formalism.  Test this idea with a calculation from the fit.\n",
    "\n",
    "\n",
    "* From the measurements taken from the lock-in scan for neon, take differences between adjacent features that indicate transitions between the 3s and 3p states.  Look at the list of differences to see if they have about the same value, and check any outliers against the original XY plot.  Then calculate an average and uncertainty to compare to the expected 1.7 V average separation between these states.\n",
    "\n",
    "For the mercury data set:\n",
    "\n",
    "* Plot and fit the calibration data.  Create a calibration function to turn feature positions into voltages.\n",
    "\n",
    "\n",
    "* Apply the calibration to all of the position measurements.\n",
    "\n",
    "\n",
    "* For the anode current peaks and troughs, analyze each set in three different ways:\n",
    "  1. Fit a line through the peak/trough position vs. number.  From this obtain the average energy difference.\n",
    "  2. Fit a quadratic through the peak/trough positions vs. number.  From this obtain the fit parameters to use in the RSB formalism.\n",
    "  3. Take first differences of the peak/trough positions, and plot/fit these to a line.  The fit line should extrapolate to the energy of the first excited state, acccording to the RSB formalism.  Test this idea with a calculation from the fit.\n",
    "\n",
    "* Use the fit coefficients associated with the RSB method to estimate the mean free path of the electrons between collisions with Hg atoms.  You will also need a dimension from the picture of the Hg tube.  Compare this result to the one calculated from the exercises and to the results cited by RSB in their paper.\n"
   ]
  },
  {
   "cell_type": "markdown",
   "metadata": {},
   "source": [
    "## Read in the Franck-Hertz Data\n",
    "\n",
    "You will probably want 4 to 5 different DataFrames: Neon calibration, neon peak/trough positions, neon small-feature positions, Mercury calibration, and mercury peak/trough positions.\n",
    "\n",
    "One way to do it is create a different CSV file for each DataFrame.  Another way is to put each spreadsheet on a different Excel sheet within a single Excel file.  You can read the whole file into a Pandas \"OrderedDict\"\n",
    "with the command \n",
    "\n",
    "    `FHdata = pd.read_excel('Franck-Hertz_data.xlsx', sheet_name = None)`\n",
    "\n",
    "Then each sheet will be in its own DataFrame that you would reference with `FHdata['sheet-name']`."
   ]
  },
  {
   "cell_type": "code",
   "execution_count": 8,
   "metadata": {},
   "outputs": [
    {
     "data": {
      "text/plain": [
       "['Neon Lock-In Calibration',\n",
       " 'Neon PDA Calibration',\n",
       " 'Neon Lock-In Min and Max',\n",
       " 'Neon Lock-In Small Features',\n",
       " 'Neon PDA Min and Max',\n",
       " 'Mercury Lock-In Calibration',\n",
       " 'Mercury PDA Calibration',\n",
       " 'Mercury Lock-In Min and Max',\n",
       " 'Mercury PDA Min and Max']"
      ]
     },
     "execution_count": 8,
     "metadata": {},
     "output_type": "execute_result"
    }
   ],
   "source": [
    "# Example\n",
    "FHdata = pd.ExcelFile('data.xlsx')      \n",
    "# The keys are the sheet names\n",
    "FHdata.sheet_names"
   ]
  },
  {
   "cell_type": "markdown",
   "metadata": {},
   "source": [
    "## Neon Analysis\n",
    "\n",
    "Calibration first.  Fit a line to the calibration data, create a calibration function."
   ]
  },
  {
   "cell_type": "code",
   "execution_count": 9,
   "metadata": {
    "scrolled": true
   },
   "outputs": [
    {
     "data": {
      "text/html": [
       "<div>\n",
       "<style scoped>\n",
       "    .dataframe tbody tr th:only-of-type {\n",
       "        vertical-align: middle;\n",
       "    }\n",
       "\n",
       "    .dataframe tbody tr th {\n",
       "        vertical-align: top;\n",
       "    }\n",
       "\n",
       "    .dataframe thead th {\n",
       "        text-align: right;\n",
       "    }\n",
       "</style>\n",
       "<table border=\"1\" class=\"dataframe\">\n",
       "  <thead>\n",
       "    <tr style=\"text-align: right;\">\n",
       "      <th></th>\n",
       "      <th>grid x</th>\n",
       "      <th>grid y</th>\n",
       "      <th>voltage (V)</th>\n",
       "      <th>current (nA)</th>\n",
       "      <th>min or max</th>\n",
       "    </tr>\n",
       "  </thead>\n",
       "  <tbody>\n",
       "    <tr>\n",
       "      <th>0</th>\n",
       "      <td>3.25</td>\n",
       "      <td>10.5</td>\n",
       "      <td>2</td>\n",
       "      <td>0</td>\n",
       "      <td>NaN</td>\n",
       "    </tr>\n",
       "    <tr>\n",
       "      <th>1</th>\n",
       "      <td>25.25</td>\n",
       "      <td>10.5</td>\n",
       "      <td>20</td>\n",
       "      <td>0</td>\n",
       "      <td>NaN</td>\n",
       "    </tr>\n",
       "    <tr>\n",
       "      <th>2</th>\n",
       "      <td>49.50</td>\n",
       "      <td>10.5</td>\n",
       "      <td>40</td>\n",
       "      <td>0</td>\n",
       "      <td>NaN</td>\n",
       "    </tr>\n",
       "    <tr>\n",
       "      <th>3</th>\n",
       "      <td>74.00</td>\n",
       "      <td>10.5</td>\n",
       "      <td>60</td>\n",
       "      <td>0</td>\n",
       "      <td>NaN</td>\n",
       "    </tr>\n",
       "    <tr>\n",
       "      <th>4</th>\n",
       "      <td>86.00</td>\n",
       "      <td>10.5</td>\n",
       "      <td>70</td>\n",
       "      <td>0</td>\n",
       "      <td>NaN</td>\n",
       "    </tr>\n",
       "  </tbody>\n",
       "</table>\n",
       "</div>"
      ],
      "text/plain": [
       "   grid x  grid y  voltage (V)  current (nA)  min or max\n",
       "0    3.25    10.5            2             0         NaN\n",
       "1   25.25    10.5           20             0         NaN\n",
       "2   49.50    10.5           40             0         NaN\n",
       "3   74.00    10.5           60             0         NaN\n",
       "4   86.00    10.5           70             0         NaN"
      ]
     },
     "execution_count": 9,
     "metadata": {},
     "output_type": "execute_result"
    }
   ],
   "source": [
    "# Look at the calibration data first\n",
    "Ne_calib = pd.read_excel(FHdata, 'Neon PDA Calibration')\n",
    "Ne_calib.head()"
   ]
  },
  {
   "cell_type": "markdown",
   "metadata": {},
   "source": [
    "### Fit a line\n",
    "\n",
    "You know how to do this.  Save the fit results to use in the calibration function"
   ]
  },
  {
   "cell_type": "code",
   "execution_count": 29,
   "metadata": {
    "scrolled": false
   },
   "outputs": [],
   "source": [
    "##  Hint: make a function to do the fitting and plotting of the fit\n",
    "##  Have it return the fit parameters as a Parameters object, like this\n",
    "\n",
    "def model_fit_and_plot(xdata,ydata,model=LinearModel()):\n",
    "    # Fit the data\n",
    "    params = model.guess(ydata, x=xdata)\n",
    "    fit = model.fit(ydata, params, x=xdata)\n",
    "    # Plot the data and the fit\n",
    "    fitx = np.linspace(xdata.min(), xdata.max(), 100)\n",
    "    fity = fit.params['slope'].value * fitx + fit.params['intercept'].value\n",
    "    plt.plot(xdata,ydata,'o',label='data')\n",
    "    plt.plot(fitx,fity,label='fit')\n",
    "    plt.xlabel('grid x')\n",
    "    plt.ylabel('voltage (V)')\n",
    "    plt.legend()\n",
    "    return fit\n"
   ]
  },
  {
   "cell_type": "markdown",
   "metadata": {},
   "source": [
    "### Write a calibration function\n",
    "\n",
    "Pass your fit constants to the calibration function.  Test it."
   ]
  },
  {
   "cell_type": "code",
   "execution_count": 30,
   "metadata": {},
   "outputs": [
    {
     "data": {
      "image/png": "[encoded data removed]",
      "text/plain": [
       "<Figure size 432x288 with 1 Axes>"
      ]
     },
     "metadata": {
      "needs_background": "light"
     },
     "output_type": "display_data"
    }
   ],
   "source": [
    "# Pass your fit constants to the calibration function\n",
    "Ne_calib_fit = model_fit_and_plot(Ne_calib['grid x'],Ne_calib['voltage (V)'])"
   ]
  },
  {
   "cell_type": "code",
   "execution_count": 24,
   "metadata": {},
   "outputs": [
    {
     "data": {
      "text/html": [
       "<table><tr><th> name </th><th> value </th><th> standard error </th><th> relative error </th><th> initial value </th><th> min </th><th> max </th><th> vary </th></tr><tr><td> slope </td><td>  0.82133758 </td><td>  0.00102836 </td><td> (0.13%) </td><td> 0.8213375847637925 </td><td>        -inf </td><td>         inf </td><td> True </td></tr><tr><td> intercept </td><td> -0.69566903 </td><td>  0.05811869 </td><td> (8.35%) </td><td> -0.6956690347565149 </td><td>        -inf </td><td>         inf </td><td> True </td></tr></table>"
      ],
      "text/plain": [
       "Parameters([('slope', <Parameter 'slope', value=0.8213375847637925 +/- 0.00103, bounds=[-inf:inf]>), ('intercept', <Parameter 'intercept', value=-0.6956690347565149 +/- 0.0581, bounds=[-inf:inf]>)])"
      ]
     },
     "execution_count": 24,
     "metadata": {},
     "output_type": "execute_result"
    }
   ],
   "source": [
    "Ne_calib_fit.params"
   ]
  },
  {
   "cell_type": "markdown",
   "metadata": {},
   "source": [
    "### Apply the calibration\n",
    "\n",
    "You might want to add columns of the calibrated data to the existing DataFrame, or make new DataFrames or arrays.  It is up to you."
   ]
  },
  {
   "cell_type": "code",
   "execution_count": 32,
   "metadata": {},
   "outputs": [
    {
     "data": {
      "text/html": [
       "<div>\n",
       "<style scoped>\n",
       "    .dataframe tbody tr th:only-of-type {\n",
       "        vertical-align: middle;\n",
       "    }\n",
       "\n",
       "    .dataframe tbody tr th {\n",
       "        vertical-align: top;\n",
       "    }\n",
       "\n",
       "    .dataframe thead th {\n",
       "        text-align: right;\n",
       "    }\n",
       "</style>\n",
       "<table border=\"1\" class=\"dataframe\">\n",
       "  <thead>\n",
       "    <tr style=\"text-align: right;\">\n",
       "      <th></th>\n",
       "      <th>grid x</th>\n",
       "      <th>grid y</th>\n",
       "      <th>voltage (V)</th>\n",
       "      <th>current (nA)</th>\n",
       "      <th>min or max</th>\n",
       "    </tr>\n",
       "  </thead>\n",
       "  <tbody>\n",
       "    <tr>\n",
       "      <th>0</th>\n",
       "      <td>17.5</td>\n",
       "      <td>20.50</td>\n",
       "      <td>13.677739</td>\n",
       "      <td>NaN</td>\n",
       "      <td>max</td>\n",
       "    </tr>\n",
       "    <tr>\n",
       "      <th>1</th>\n",
       "      <td>26.5</td>\n",
       "      <td>9.25</td>\n",
       "      <td>21.069777</td>\n",
       "      <td>NaN</td>\n",
       "      <td>min</td>\n",
       "    </tr>\n",
       "    <tr>\n",
       "      <th>2</th>\n",
       "      <td>38.5</td>\n",
       "      <td>28.00</td>\n",
       "      <td>30.925828</td>\n",
       "      <td>NaN</td>\n",
       "      <td>max</td>\n",
       "    </tr>\n",
       "    <tr>\n",
       "      <th>3</th>\n",
       "      <td>48.0</td>\n",
       "      <td>8.50</td>\n",
       "      <td>38.728535</td>\n",
       "      <td>NaN</td>\n",
       "      <td>min</td>\n",
       "    </tr>\n",
       "    <tr>\n",
       "      <th>4</th>\n",
       "      <td>60.5</td>\n",
       "      <td>35.00</td>\n",
       "      <td>48.995255</td>\n",
       "      <td>NaN</td>\n",
       "      <td>max</td>\n",
       "    </tr>\n",
       "  </tbody>\n",
       "</table>\n",
       "</div>"
      ],
      "text/plain": [
       "   grid x  grid y  voltage (V)  current (nA) min or max\n",
       "0    17.5   20.50    13.677739           NaN        max\n",
       "1    26.5    9.25    21.069777           NaN        min\n",
       "2    38.5   28.00    30.925828           NaN        max\n",
       "3    48.0    8.50    38.728535           NaN        min\n",
       "4    60.5   35.00    48.995255           NaN        max"
      ]
     },
     "execution_count": 32,
     "metadata": {},
     "output_type": "execute_result"
    }
   ],
   "source": [
    "Ne_pda = pd.read_excel(FHdata, 'Neon PDA Min and Max')\n",
    "# apply the calibration to the Voltage data\n",
    "Ne_pda['voltage (V)'] = Ne_calib_fit.params['slope'].value * Ne_pda['grid x'] + Ne_calib_fit.params['intercept'].value\n",
    "Ne_pda.head()"
   ]
  },
  {
   "cell_type": "code",
   "execution_count": 33,
   "metadata": {},
   "outputs": [],
   "source": [
    "# select min and max values\n",
    "Ne_pda_min = Ne_pda.loc[Ne_pda['min or max'] == 'min']\n",
    "Ne_pda_max = Ne_pda.loc[Ne_pda['min or max'] == 'max']"
   ]
  },
  {
   "cell_type": "code",
   "execution_count": 38,
   "metadata": {},
   "outputs": [
    {
     "name": "stderr",
     "output_type": "stream",
     "text": [
      "C:\\Users\\alber\\AppData\\Local\\Temp/ipykernel_198636/3786356982.py:2: SettingWithCopyWarning: \n",
      "A value is trying to be set on a copy of a slice from a DataFrame.\n",
      "Try using .loc[row_indexer,col_indexer] = value instead\n",
      "\n",
      "See the caveats in the documentation: https://pandas.pydata.org/pandas-docs/stable/user_guide/indexing.html#returning-a-view-versus-a-copy\n",
      "  Ne_pda_min['peak number'] = np.linspace(1,len(Ne_pda_min),len(Ne_pda_min), dtype=int)\n",
      "C:\\Users\\alber\\AppData\\Local\\Temp/ipykernel_198636/3786356982.py:3: SettingWithCopyWarning: \n",
      "A value is trying to be set on a copy of a slice from a DataFrame.\n",
      "Try using .loc[row_indexer,col_indexer] = value instead\n",
      "\n",
      "See the caveats in the documentation: https://pandas.pydata.org/pandas-docs/stable/user_guide/indexing.html#returning-a-view-versus-a-copy\n",
      "  Ne_pda_max['peak number'] = np.linspace(1,len(Ne_pda_max),len(Ne_pda_max), dtype=int)\n"
     ]
    }
   ],
   "source": [
    "# add a column of peak number for the min and max data as their order in the data\n",
    "Ne_pda_min['peak number'] = np.linspace(1,len(Ne_pda_min),len(Ne_pda_min), dtype=int)\n",
    "Ne_pda_max['peak number'] = np.linspace(1,len(Ne_pda_max),len(Ne_pda_max), dtype=int)"
   ]
  },
  {
   "cell_type": "markdown",
   "metadata": {},
   "source": [
    "Make a plot, just to check that it looks OK."
   ]
  },
  {
   "cell_type": "code",
   "execution_count": 39,
   "metadata": {},
   "outputs": [
    {
     "data": {
      "text/plain": [
       "<matplotlib.legend.Legend at 0x1439c23da90>"
      ]
     },
     "execution_count": 39,
     "metadata": {},
     "output_type": "execute_result"
    },
    {
     "data": {
      "image/png": "[encoded data removed]",
      "text/plain": [
       "<Figure size 864x576 with 1 Axes>"
      ]
     },
     "metadata": {
      "needs_background": "light"
     },
     "output_type": "display_data"
    }
   ],
   "source": [
    "# plot min and max values of voltage separately versus peak number\n",
    "plt.figure(figsize=(12,8))\n",
    "plt.grid()\n",
    "plt.title('Neon Franck-Hertz Analysis',fontsize=14)\n",
    "plt.ylabel('Peak/Trough Position (V)',fontsize=14)\n",
    "plt.xlabel('Peak/Trough Number',fontsize=14)\n",
    "plt.scatter(Ne_pda_min['peak number'],Ne_pda_min['voltage (V)'],label='min',color='red')\n",
    "plt.scatter(Ne_pda_max['peak number'],Ne_pda_max['voltage (V)'],label='max',color='blue')\n",
    "plt.legend()"
   ]
  },
  {
   "cell_type": "markdown",
   "metadata": {},
   "source": [
    "### Fit the peak/trough positions \n",
    "\n",
    "Fit the peak and trough positions versus number in two different ways: with a line, to find the average spacing, and with a quadratic, to find the coefficients to apply to the model of RSB.  Save the fit results.  Recommended: just same the `params` object as a whole.\n",
    "\n",
    "To fit to a quadratic, you may us the `QuadraticModel` in exactly the same way as the `LinearModel`.  Look up **QuadraticModel** in the LMFit documenation for details.\n",
    "\n",
    "#### Neon troughs first"
   ]
  },
  {
   "cell_type": "code",
   "execution_count": null,
   "metadata": {},
   "outputs": [],
   "source": [
    "# Troughs line fit"
   ]
  },
  {
   "cell_type": "code",
   "execution_count": null,
   "metadata": {},
   "outputs": [],
   "source": [
    "# Now with a quadratic\n"
   ]
  },
  {
   "cell_type": "markdown",
   "metadata": {},
   "source": [
    "#### Now neon peaks"
   ]
  },
  {
   "cell_type": "code",
   "execution_count": null,
   "metadata": {},
   "outputs": [],
   "source": [
    "# Peaks line fit\n"
   ]
  },
  {
   "cell_type": "code",
   "execution_count": null,
   "metadata": {},
   "outputs": [],
   "source": [
    "# Peaks quadratic\n"
   ]
  },
  {
   "cell_type": "markdown",
   "metadata": {},
   "source": [
    "### Plot the fitlines over the data\n",
    "\n",
    "Show, on a single plot, the peak positions, the trough positions (both as dots) with fit lines and fit curves for each.  One member of the grou should include this plot in your Group Document.\n",
    "\n",
    "Use the `model.eval()` function with the saved parameters to build fit lines. "
   ]
  },
  {
   "cell_type": "code",
   "execution_count": null,
   "metadata": {},
   "outputs": [],
   "source": [
    "# For a smooth curve make an x range with a bunch of points.  100 should be fine.\n",
    "xfit = np.linspace(0,4.5,100) \n",
    "trough_line = line.eval(Hg_troughs_line,x=xfit)\n",
    "# Add more, as needed\n",
    "\n",
    "# Then redo the above plot with fit lines and curves\n"
   ]
  },
  {
   "cell_type": "markdown",
   "metadata": {},
   "source": [
    "### Take differences in peak/trough positions\n",
    "\n",
    "Next, apply the RSB approach as they describe it, by taking the <i>differences</i> in the positions of subsequent features to create an array $\\Delta E(n) = E_n - E_{n-1}$; note $n$ is the upper number.\n",
    "\n",
    "Then, plot and fit these to a line.  The energy of the lowest excited state should be given by $\\Delta E(0.5)$.  Save the fit parameters as before."
   ]
  },
  {
   "cell_type": "code",
   "execution_count": null,
   "metadata": {},
   "outputs": [],
   "source": [
    "# Recommended: use Python \"List comprehensions\"  See the Python text on how to make these\n",
    "\n",
    "\n",
    "# Have a look at them, e.g., \n",
    "# print('List of Neon peak differences (V):', Hg_peak_diffs)\n",
    "# print('List of Neon trough differences (V):', Hg_trough_diffs)"
   ]
  },
  {
   "cell_type": "code",
   "execution_count": null,
   "metadata": {
    "scrolled": false
   },
   "outputs": [],
   "source": [
    "# Fit of line to trough diffs"
   ]
  },
  {
   "cell_type": "code",
   "execution_count": null,
   "metadata": {},
   "outputs": [],
   "source": [
    "# Next, peak diffs"
   ]
  },
  {
   "cell_type": "markdown",
   "metadata": {},
   "source": [
    "### Make a differences plot\n",
    "\n",
    "Show, on a single plot, the peak position differences, the trough position differences (both as dots) with fit lines for each.  One member of the grou should include this plot in your Group Document."
   ]
  },
  {
   "cell_type": "code",
   "execution_count": null,
   "metadata": {},
   "outputs": [],
   "source": [
    "# Plot here\n"
   ]
  },
  {
   "cell_type": "markdown",
   "metadata": {},
   "source": [
    "## Final results for neon excited state\n",
    "\n",
    "Compare fit coefficients from the quadratic to similar from the RSB difference method.  Then calculate values for the lowest excited state of Neon from the three methods of analyzing the data set: simple average peak spacing, and RSB calculation from the results of the other two fits.\n",
    "\n",
    "From the RSB analysis, expect energy troughs to follow\n",
    "\n",
    "$$ E_n = E_a\\frac{\\lambda}{L}n^2 + E_an + c  = an^2 + bn +c$$\n",
    "\n",
    "where $c$ is a constant, $n$ is the trough number, $\\lambda/L$ is the ratio of the mean free path to the total travel distance from electrode to electrode, and $E_a$ is the lowest excited state.\n",
    "\n",
    "Taking differences, RSB derive\n",
    "\n",
    "$$ \\Delta E(n) = E_{n} - E_{n-1} = E_a\\left(1-\\frac{\\lambda}{L}\\right) + E_a2\\frac{\\lambda}{L}n = p + mn$$\n",
    "\n",
    "Thus, a quadratic fit to the trough positions should give $E_a$ as the linear-term coefficient, and a linear fit to  the differences in trough positions should give a line that evaluates to $E_a$ for $n=0.5$.\n",
    "\n",
    "Further, if $m$ and $p$ are the slope and intercept of the linear fit to the differences, and $a$, $b$, and $c$ are the 2nd, 1st and 0th order coefficients in the quadratic fit to trough positions, then we expect $p=b-a$ and $m=2a$."
   ]
  },
  {
   "cell_type": "code",
   "execution_count": null,
   "metadata": {},
   "outputs": [],
   "source": [
    "print('CONISISTENCY CHECK OF FIT COEFFICIENTS IN RSB METHOD')\n",
    "print('Troughs analysis:')\n",
    "# Your code here\n",
    "print('p ?= b-a: {:.2f} ?= {:.2f} = {:.2f}-{:.2f}'.format(p,b-a,b,a))\n",
    "print('m ?= 2a: {:.2f} ?= {:.2f} = 2*{:.2f}'.format(m,2*a,a))\n",
    "\n",
    "print('\\nPeaks analysis:')\n",
    "# Your code here\n",
    "print('p ?= b-a: {:.2f} ?= {:.2f} = {:.2f}-{:.2f}'.format(p,b-a,b,a))\n",
    "print('m ?= 2a: {:.2f} ?= {:.2f} = 2*{:.2f}'.format(m,2*a,a))\n",
    "\n",
    "print('\\n\\nCALCULATION OF FIRST EXCITED STATE OF NEON FROM DIFFERENT METHODS')\n",
    "\n",
    "# Your code here\n",
    "print('\"Traditional\" average peak spacing: {:.2uP} V'.format(Ea_trad_pk))\n",
    "print('\"Traditional\" average trough spacing: {:.2uP} V'.format(Ea_trad_tr))\n",
    "\n",
    "# From quadratic fit, see E_a as parameter b\n",
    "# From RSB n=1/2 method, E_a = p + m/2\n",
    "\n",
    "# Your code here\n",
    "\n",
    "print('\\nRSB method using line fit to peak/trough position differences')\n",
    "\n",
    "# Your code here\n",
    "\n",
    "print('\\nRSB method using quadratic fit to peak/trough positions')\n",
    "\n",
    "# Your code here\n"
   ]
  },
  {
   "cell_type": "markdown",
   "metadata": {},
   "source": [
    "## Calculate the 3p-3s energy spacing\n",
    "\n",
    "Calculate the differences between similar closely spaced features in the lock-in scan for neon.  Convert paper positions to voltages first, then take differences and make a list.  See if they are similar values.  Then take an average."
   ]
  },
  {
   "cell_type": "code",
   "execution_count": null,
   "metadata": {},
   "outputs": [],
   "source": [
    "#\n",
    "# Your code here \n",
    "print('Energy difference measurements (V)')\n",
    "print(list_3p3s)\n",
    "print('Measured average energy difference 3p-3s for neon: {:.1uP} eV'.format(udE_3p3s))"
   ]
  },
  {
   "cell_type": "markdown",
   "metadata": {},
   "source": [
    "## Mercury Analysis\n",
    "\n",
    "Calibration first.  Fit a line to the calibration data, create a calibration function."
   ]
  },
  {
   "cell_type": "code",
   "execution_count": null,
   "metadata": {},
   "outputs": [],
   "source": [
    "# Show calibration data "
   ]
  },
  {
   "cell_type": "code",
   "execution_count": null,
   "metadata": {},
   "outputs": [],
   "source": [
    "# fit it and get the constants\n"
   ]
  },
  {
   "cell_type": "code",
   "execution_count": null,
   "metadata": {},
   "outputs": [],
   "source": [
    "# Make and test calibration function\n"
   ]
  },
  {
   "cell_type": "markdown",
   "metadata": {},
   "source": [
    "### Apply the calibration\n",
    "\n",
    "Change peak/trough positions into voltages."
   ]
  },
  {
   "cell_type": "code",
   "execution_count": null,
   "metadata": {
    "scrolled": true
   },
   "outputs": [],
   "source": [
    "# Show the Hg peak/trough ositions "
   ]
  },
  {
   "cell_type": "code",
   "execution_count": null,
   "metadata": {},
   "outputs": [],
   "source": [
    "# Calibrate \n",
    "# Recommended: make a new Dataframe.\n"
   ]
  },
  {
   "cell_type": "markdown",
   "metadata": {},
   "source": [
    "### Plot and check"
   ]
  },
  {
   "cell_type": "code",
   "execution_count": null,
   "metadata": {},
   "outputs": [],
   "source": [
    "plt.figure(figsize=(12,8))\n",
    "plt.grid()\n",
    "plt.title('Mercury Franck-Hertz Analysis',fontsize=14)\n",
    "plt.ylabel('Peak/Trough Position (V)',fontsize=14)\n",
    "plt.xlabel('Peak/Trough Number',fontsize=14)\n",
    "#\n",
    "#  Your code here\n",
    "#\n",
    "plt.legend();"
   ]
  },
  {
   "cell_type": "markdown",
   "metadata": {},
   "source": [
    "### Fit positions\n",
    "\n",
    "As before, fit the peak and trough positions to a line (\"traditional\") and a quadratic (part of RSB method).  Save the parameters."
   ]
  },
  {
   "cell_type": "code",
   "execution_count": null,
   "metadata": {
    "scrolled": false
   },
   "outputs": [],
   "source": [
    "# Line fit, troughs"
   ]
  },
  {
   "cell_type": "code",
   "execution_count": null,
   "metadata": {},
   "outputs": [],
   "source": [
    "# Quadratic fit, troughs"
   ]
  },
  {
   "cell_type": "code",
   "execution_count": null,
   "metadata": {},
   "outputs": [],
   "source": [
    "# Line fit, peaks"
   ]
  },
  {
   "cell_type": "code",
   "execution_count": null,
   "metadata": {},
   "outputs": [],
   "source": [
    "# Quadratic fit, peaks"
   ]
  },
  {
   "cell_type": "markdown",
   "metadata": {},
   "source": [
    "### Make a plot\n",
    "\n",
    "Show, on a single plot, the peak positions, the trough positions (both as dots) with fit lines and fit curves for each.  One member of the grou should include this plot in your Group Document."
   ]
  },
  {
   "cell_type": "code",
   "execution_count": null,
   "metadata": {},
   "outputs": [],
   "source": [
    "# For a smooth curve make an x range with a bunch of points.  100 should be fine.\n",
    "xfit = np.linspace(0,7.5,100) \n",
    "trough_line = line.eval(Hg_troughs_line,x=xfit)\n",
    "# \n",
    "# Etc."
   ]
  },
  {
   "cell_type": "markdown",
   "metadata": {},
   "source": [
    "### Calculate peak/trough differences\n",
    "\n",
    "As before, carry out the RSB approach as they describe it, by taking the <i>differences</i> in the positions of subsequent features to create an array $\\Delta E(n) = E_n - E_{n-1}$; note $n$ is the upper number.\n",
    "\n",
    "Then, plot and fit these to a line.  The energy of the lowest excited state should be given by $\\Delta E(0.5)$.  Save the fit parameters as before."
   ]
  },
  {
   "cell_type": "code",
   "execution_count": null,
   "metadata": {},
   "outputs": [],
   "source": [
    "# Same process as before, except you have more data points.\n",
    "# Recommended: use Python \"List comprehensions\"\n",
    "\n",
    "# Your code here\n",
    "\n",
    "print('List of Hg peak differences (V):', Hg_peak_diffs)\n",
    "print('List of Hg trough differences (V):', Hg_trough_diffs)"
   ]
  },
  {
   "cell_type": "code",
   "execution_count": null,
   "metadata": {
    "scrolled": false
   },
   "outputs": [],
   "source": [
    "# Line fit to trough diffs"
   ]
  },
  {
   "cell_type": "code",
   "execution_count": null,
   "metadata": {},
   "outputs": [],
   "source": [
    "# Line fit to peak diffs"
   ]
  },
  {
   "cell_type": "markdown",
   "metadata": {},
   "source": [
    "### Make a differences plot\n",
    "\n",
    "Show, on a single plot, the peak position differences, the trough position differences (both as dots) with fit lines for each.  One member of the grou should include this plot in your Group Document."
   ]
  },
  {
   "cell_type": "code",
   "execution_count": null,
   "metadata": {},
   "outputs": [],
   "source": [
    "# Plot"
   ]
  },
  {
   "cell_type": "markdown",
   "metadata": {},
   "source": [
    "## Final results for Hg\n",
    "\n",
    "Calculate the losest excited state energy, as was done for neon. "
   ]
  },
  {
   "cell_type": "code",
   "execution_count": null,
   "metadata": {},
   "outputs": [],
   "source": [
    "print('CONISISTENCY CHECK OF FIT COEFFICIENTS IN RSB METHOD')\n",
    "print('Troughs analysis:')\n",
    "# Your code here\n",
    "print('p ?= b-a: {:.2f} ?= {:.2f} = {:.2f}-{:.2f}'.format(p,b-a,b,a))\n",
    "print('m ?= 2a: {:.2f} ?= {:.2f} = 2*{:.2f}'.format(m,2*a,a))\n",
    "\n",
    "print('\\nPeaks analysis:')\n",
    "# Your code here\n",
    "print('p ?= b-a: {:.2f} ?= {:.2f} = {:.2f}-{:.2f}'.format(p,b-a,b,a))\n",
    "print('m ?= 2a: {:.2f} ?= {:.2f} = 2*{:.2f}'.format(m,2*a,a))\n",
    "\n",
    "print('\\n\\nCALCULATION OF FIRST EXCITED STATE OF NEON FROM DIFFERENT METHODS')\n",
    "\n",
    "# Your code here\n",
    "print('\"Traditional\" average peak spacing: {:.2uP} V'.format(Ea_trad_pk))\n",
    "print('\"Traditional\" average trough spacing: {:.2uP} V'.format(Ea_trad_tr))\n",
    "\n",
    "# From quadratic fit, see E_a as parameter b\n",
    "# From RSB n=1/2 method, E_a = p + m/2\n",
    "\n",
    "# Your code here\n",
    "\n",
    "print('\\nRSB method using line fit to peak/trough position differences')\n",
    "\n",
    "# Your code here\n",
    "\n",
    "print('\\nRSB method using quadratic fit to peak/trough positions')\n",
    "\n",
    "# Your code here\n"
   ]
  },
  {
   "cell_type": "markdown",
   "metadata": {},
   "source": [
    "## Calculation of mean free path $\\lambda$\n",
    "\n",
    "The parameter $\\lambda/L$ contains the mean free path between electron collisions.  Calculate this value for Hg given the measureable distance between the cathode and grid $L$.  See photos of the apparatus to obtain this value.\n",
    "\n",
    "NOTE: You cannot use the word `lambda` as a variable in Python.  It is a keyword (something that is defined by the language)."
   ]
  },
  {
   "cell_type": "code",
   "execution_count": null,
   "metadata": {},
   "outputs": [],
   "source": [
    "## Your code here.  Use uncertainty objects and uncertainties in fit parameters to get uncertainty in mean free path.\n",
    "\n",
    "\n",
    "print('CALCULATION OF MEAN FREE PATH, RSB METHOD\\n')\n",
    "#print('Mean free path from troughs fit = {:.2uP} cm'.format(())\n",
    "#print('Mean free path from peaks fit = {:.2uP} cm'.format(())\n",
    "\n",
    "# Print comparison to RSB results"
   ]
  },
  {
   "cell_type": "code",
   "execution_count": null,
   "metadata": {},
   "outputs": [],
   "source": []
  }
 ],
 "metadata": {
  "kernelspec": {
   "display_name": "Python 3",
   "language": "python",
   "name": "python3"
  },
  "language_info": {
   "codemirror_mode": {
    "name": "ipython",
    "version": 3
   },
   "file_extension": ".py",
   "mimetype": "text/x-python",
   "name": "python",
   "nbconvert_exporter": "python",
   "pygments_lexer": "ipython3",
   "version": "3.8.12"
  }
 },
 "nbformat": 4,
 "nbformat_minor": 2
}
