{
 "cells": [
  {
   "cell_type": "markdown",
   "metadata": {},
   "source": [
    "# Individual Analysis for the Franck-Hertz Experiment\n",
    "\n",
    "Use this template to carry out the analysis tasks for the experiment.  You may need to consult the documentation for different Python packages.  Also recommended: the [Whirlwind Tour of Python](https://jakevdp.github.io/WhirlwindTourOfPython/) and the [Python Data Science Handbook](https://jakevdp.github.io/PythonDataScienceHandbook/) both by Jake VanderPlas.\n",
    "\n",
    "We will also be using [**LMFit**](https://lmfit.github.io/lmfit-py/) for curve fitting \n",
    "and the [Uncertainties](https://pythonhosted.org/uncertainties/) package for calculating statistical uncertainty. "
   ]
  },
  {
   "cell_type": "code",
   "execution_count": 10,
   "metadata": {},
   "outputs": [],
   "source": [
    "# Run this cell with Shift-Enter, and wait until the asterisk changes to a number, i.e., [*] becomes [1]\n",
    "import numpy as np\n",
    "import scipy.constants as const\n",
    "import uncertainties as unc\n",
    "import uncertainties.unumpy as up\n",
    "import matplotlib.pyplot as plt\n",
    "import pandas as pd\n",
    "%matplotlib inline\n",
    "\n",
    "from lmfit.models import LinearModel\n",
    "from lmfit.models import QuadraticModel"
   ]
  },
  {
   "cell_type": "markdown",
   "metadata": {},
   "source": [
    "## Summary of tasks\n",
    "\n",
    "### Prior to working on this notebook\n",
    "\n",
    "1. Watch the videos on the experiment and work out at least exercises 2 and 3 on the mean free path of electrons in the mercury F-H tube given in the experiment instructions.  These will be relevant to the \"RSB\" method of analyzing Franck-Hertz data.\n",
    "\n",
    "\n",
    "2. Read through the paper by Rapior, Sengstock and Baev (RSB) linked on the experiment page: Rapior, G., K. Sengstock, and V Baev, <a href=\"http://courses.washington.edu/phys432/restricted/AJP_rapior_sengstock_baev.pdf\" target=\"_blank\">\"New features of the Franck-Hertz experiment,\"</a> <i>Am. J. Phys.,</i> <strong>74</strong>, p. 423-428 (2006).  Also study the lecture notes on this paper.\n",
    "\n",
    "\n",
    "3. Download the PDFs of the chart-recorder scans for the two Franck-Hertz data runs (one for Hg, the other for Ne).\n",
    "\n",
    "\n",
    "4. Extract from the scans the positions in paper-grid units of (1) calibration marks, (2) positions of anode current minima (\"troughs\") and maxima (\"peaks\"), and, for neon (3) positions of the small features (tiny peaks and troughs) seen in the neon-scan lock-in amp output.  The separations of similar features will be used to estimate the 3s-3p state separation.  **You do not need to estimate the uncertainty in these measurements**, but make your estimates of position to within 1/10 of small square.\n",
    "\n",
    "\n",
    "5. Assign numbers to each anode current feature, for example, 1, 2, 3,... for peak 1, peak 2, peak 3... and similarly for the troughs.  (Not necessary for the Ne lock-in scan; these will be analyzed differently.)\n",
    "\n",
    "\n",
    "6. Create spreadsheets with these data to be read into the notebook for further processing.\n",
    "\n",
    "### Tasks for this notebook\n",
    "\n",
    "For the neon data set:\n",
    "\n",
    "* Plot and fit the calibration data.  Create a calibration function to turn feature positions into voltages.\n",
    "\n",
    "\n",
    "* Apply the calibration to all of the position measurements.\n",
    "\n",
    "\n",
    "* For the anode current peaks and troughs, analyze each set in three different ways:\n",
    "  1. Fit a line through the peak/trough position vs. number.  From this obtain the average energy difference.\n",
    "  2. Fit a quadratic through the peak/trough positions vs. number.  From this obtain the fit parameters to use in the RSB formalism.\n",
    "  3. Take first differences of the peak/trough positions, and plot/fit these to a line.  The fit line should extrapolate to the energy of the first excited state, acccording to the RSB formalism.  Test this idea with a calculation from the fit.\n",
    "\n",
    "\n",
    "* From the measurements taken from the lock-in scan for neon, take differences between adjacent features that indicate transitions between the 3s and 3p states.  Look at the list of differences to see if they have about the same value, and check any outliers against the original XY plot.  Then calculate an average and uncertainty to compare to the expected 1.7 V average separation between these states.\n",
    "\n",
    "For the mercury data set:\n",
    "\n",
    "* Plot and fit the calibration data.  Create a calibration function to turn feature positions into voltages.\n",
    "\n",
    "\n",
    "* Apply the calibration to all of the position measurements.\n",
    "\n",
    "\n",
    "* For the anode current peaks and troughs, analyze each set in three different ways:\n",
    "  1. Fit a line through the peak/trough position vs. number.  From this obtain the average energy difference.\n",
    "  2. Fit a quadratic through the peak/trough positions vs. number.  From this obtain the fit parameters to use in the RSB formalism.\n",
    "  3. Take first differences of the peak/trough positions, and plot/fit these to a line.  The fit line should extrapolate to the energy of the first excited state, acccording to the RSB formalism.  Test this idea with a calculation from the fit.\n",
    "\n",
    "* Use the fit coefficients associated with the RSB method to estimate the mean free path of the electrons between collisions with Hg atoms.  You will also need a dimension from the picture of the Hg tube.  Compare this result to the one calculated from the exercises and to the results cited by RSB in their paper.\n"
   ]
  },
  {
   "cell_type": "markdown",
   "metadata": {},
   "source": [
    "## Read in the Franck-Hertz Data\n",
    "\n",
    "You will probably want 4 to 5 different DataFrames: Neon calibration, neon peak/trough positions, neon small-feature positions, Mercury calibration, and mercury peak/trough positions.\n",
    "\n",
    "One way to do it is create a different CSV file for each DataFrame.  Another way is to put each spreadsheet on a different Excel sheet within a single Excel file.  You can read the whole file into a Pandas \"OrderedDict\"\n",
    "with the command \n",
    "\n",
    "    `FHdata = pd.read_excel('Franck-Hertz_data.xlsx', sheet_name = None)`\n",
    "\n",
    "Then each sheet will be in its own DataFrame that you would reference with `FHdata['sheet-name']`."
   ]
  },
  {
   "cell_type": "code",
   "execution_count": 8,
   "metadata": {},
   "outputs": [
    {
     "data": {
      "text/plain": [
       "['Neon Lock-In Calibration',\n",
       " 'Neon PDA Calibration',\n",
       " 'Neon Lock-In Min and Max',\n",
       " 'Neon Lock-In Small Features',\n",
       " 'Neon PDA Min and Max',\n",
       " 'Mercury Lock-In Calibration',\n",
       " 'Mercury PDA Calibration',\n",
       " 'Mercury Lock-In Min and Max',\n",
       " 'Mercury PDA Min and Max']"
      ]
     },
     "execution_count": 8,
     "metadata": {},
     "output_type": "execute_result"
    }
   ],
   "source": [
    "# Example\n",
    "FHdata = pd.ExcelFile('data.xlsx')      \n",
    "# The keys are the sheet names\n",
    "FHdata.sheet_names"
   ]
  },
  {
   "cell_type": "markdown",
   "metadata": {},
   "source": [
    "## Neon Analysis\n",
    "\n",
    "Calibration first.  Fit a line to the calibration data, create a calibration function."
   ]
  },
  {
   "cell_type": "code",
   "execution_count": 9,
   "metadata": {
    "scrolled": true
   },
   "outputs": [
    {
     "data": {
      "text/html": [
       "<div>\n",
       "<style scoped>\n",
       "    .dataframe tbody tr th:only-of-type {\n",
       "        vertical-align: middle;\n",
       "    }\n",
       "\n",
       "    .dataframe tbody tr th {\n",
       "        vertical-align: top;\n",
       "    }\n",
       "\n",
       "    .dataframe thead th {\n",
       "        text-align: right;\n",
       "    }\n",
       "</style>\n",
       "<table border=\"1\" class=\"dataframe\">\n",
       "  <thead>\n",
       "    <tr style=\"text-align: right;\">\n",
       "      <th></th>\n",
       "      <th>grid x</th>\n",
       "      <th>grid y</th>\n",
       "      <th>voltage (V)</th>\n",
       "      <th>current (nA)</th>\n",
       "      <th>min or max</th>\n",
       "    </tr>\n",
       "  </thead>\n",
       "  <tbody>\n",
       "    <tr>\n",
       "      <th>0</th>\n",
       "      <td>3.25</td>\n",
       "      <td>10.5</td>\n",
       "      <td>2</td>\n",
       "      <td>0</td>\n",
       "      <td>NaN</td>\n",
       "    </tr>\n",
       "    <tr>\n",
       "      <th>1</th>\n",
       "      <td>25.25</td>\n",
       "      <td>10.5</td>\n",
       "      <td>20</td>\n",
       "      <td>0</td>\n",
       "      <td>NaN</td>\n",
       "    </tr>\n",
       "    <tr>\n",
       "      <th>2</th>\n",
       "      <td>49.50</td>\n",
       "      <td>10.5</td>\n",
       "      <td>40</td>\n",
       "      <td>0</td>\n",
       "      <td>NaN</td>\n",
       "    </tr>\n",
       "    <tr>\n",
       "      <th>3</th>\n",
       "      <td>74.00</td>\n",
       "      <td>10.5</td>\n",
       "      <td>60</td>\n",
       "      <td>0</td>\n",
       "      <td>NaN</td>\n",
       "    </tr>\n",
       "    <tr>\n",
       "      <th>4</th>\n",
       "      <td>86.00</td>\n",
       "      <td>10.5</td>\n",
       "      <td>70</td>\n",
       "      <td>0</td>\n",
       "      <td>NaN</td>\n",
       "    </tr>\n",
       "  </tbody>\n",
       "</table>\n",
       "</div>"
      ],
      "text/plain": [
       "   grid x  grid y  voltage (V)  current (nA)  min or max\n",
       "0    3.25    10.5            2             0         NaN\n",
       "1   25.25    10.5           20             0         NaN\n",
       "2   49.50    10.5           40             0         NaN\n",
       "3   74.00    10.5           60             0         NaN\n",
       "4   86.00    10.5           70             0         NaN"
      ]
     },
     "execution_count": 9,
     "metadata": {},
     "output_type": "execute_result"
    }
   ],
   "source": [
    "# Look at the calibration data first\n",
    "Ne_calib = pd.read_excel(FHdata, 'Neon PDA Calibration')\n",
    "Ne_calib.head()"
   ]
  },
  {
   "cell_type": "markdown",
   "metadata": {},
   "source": [
    "### Fit a line\n",
    "\n",
    "You know how to do this.  Save the fit results to use in the calibration function"
   ]
  },
  {
   "cell_type": "code",
   "execution_count": 29,
   "metadata": {
    "scrolled": false
   },
   "outputs": [],
   "source": [
    "##  Hint: make a function to do the fitting and plotting of the fit\n",
    "##  Have it return the fit parameters as a Parameters object, like this\n",
    "\n",
    "def model_fit_and_plot(xdata,ydata,model=LinearModel()):\n",
    "    # Fit the data\n",
    "    params = model.guess(ydata, x=xdata)\n",
    "    fit = model.fit(ydata, params, x=xdata)\n",
    "    # Plot the data and the fit\n",
    "    fitx = np.linspace(xdata.min(), xdata.max(), 100)\n",
    "    fity = fit.params['slope'].value * fitx + fit.params['intercept'].value\n",
    "    plt.plot(xdata,ydata,'o',label='data')\n",
    "    plt.plot(fitx,fity,label='fit')\n",
    "    plt.xlabel('grid x')\n",
    "    plt.ylabel('voltage (V)')\n",
    "    plt.legend()\n",
    "    return fit\n"
   ]
  },
  {
   "cell_type": "markdown",
   "metadata": {},
   "source": [
    "### Write a calibration function\n",
    "\n",
    "Pass your fit constants to the calibration function.  Test it."
   ]
  },
  {
   "cell_type": "code",
   "execution_count": 30,
   "metadata": {},
   "outputs": [
    {
     "data": {
      "image/png": "[encoded data removed]",
      "text/plain": [
       "<Figure size 432x288 with 1 Axes>"
      ]
     },
     "metadata": {
      "needs_background": "light"
     },
     "output_type": "display_data"
    }
   ],
   "source": [
    "# Pass your fit constants to the calibration function\n",
    "Ne_calib_fit = model_fit_and_plot(Ne_calib['grid x'],Ne_calib['voltage (V)'])"
   ]
  },
  {
   "cell_type": "code",
   "execution_count": 24,
   "metadata": {},
   "outputs": [
    {
     "data": {
      "text/html": [
       "<table><tr><th> name </th><th> value </th><th> standard error </th><th> relative error </th><th> initial value </th><th> min </th><th> max </th><th> vary </th></tr><tr><td> slope </td><td>  0.82133758 </td><td>  0.00102836 </td><td> (0.13%) </td><td> 0.8213375847637925 </td><td>        -inf </td><td>         inf </td><td> True </td></tr><tr><td> intercept </td><td> -0.69566903 </td><td>  0.05811869 </td><td> (8.35%) </td><td> -0.6956690347565149 </td><td>        -inf </td><td>         inf </td><td> True </td></tr></table>"
      ],
      "text/plain": [
       "Parameters([('slope', <Parameter 'slope', value=0.8213375847637925 +/- 0.00103, bounds=[-inf:inf]>), ('intercept', <Parameter 'intercept', value=-0.6956690347565149 +/- 0.0581, bounds=[-inf:inf]>)])"
      ]
     },
     "execution_count": 24,
     "metadata": {},
     "output_type": "execute_result"
    }
   ],
   "source": [
    "Ne_calib_fit.params"
   ]
  },
  {
   "cell_type": "markdown",
   "metadata": {},
   "source": [
    "### Apply the calibration\n",
    "\n",
    "You might want to add columns of the calibrated data to the existing DataFrame, or make new DataFrames or arrays.  It is up to you."
   ]
  },
  {
   "cell_type": "code",
   "execution_count": 32,
   "metadata": {},
   "outputs": [
    {
     "data": {
      "text/html": [
       "<div>\n",
       "<style scoped>\n",
       "    .dataframe tbody tr th:only-of-type {\n",
       "        vertical-align: middle;\n",
       "    }\n",
       "\n",
       "    .dataframe tbody tr th {\n",
       "        vertical-align: top;\n",
       "    }\n",
       "\n",
       "    .dataframe thead th {\n",
       "        text-align: right;\n",
       "    }\n",
       "</style>\n",
       "<table border=\"1\" class=\"dataframe\">\n",
       "  <thead>\n",
       "    <tr style=\"text-align: right;\">\n",
       "      <th></th>\n",
       "      <th>grid x</th>\n",
       "      <th>grid y</th>\n",
       "      <th>voltage (V)</th>\n",
       "      <th>current (nA)</th>\n",
       "      <th>min or max</th>\n",
       "    </tr>\n",
       "  </thead>\n",
       "  <tbody>\n",
       "    <tr>\n",
       "      <th>0</th>\n",
       "      <td>17.5</td>\n",
       "      <td>20.50</td>\n",
       "      <td>13.677739</td>\n",
       "      <td>NaN</td>\n",
       "      <td>max</td>\n",
       "    </tr>\n",
       "    <tr>\n",
       "      <th>1</th>\n",
       "      <td>26.5</td>\n",
       "      <td>9.25</td>\n",
       "      <td>21.069777</td>\n",
       "      <td>NaN</td>\n",
       "      <td>min</td>\n",
       "    </tr>\n",
       "    <tr>\n",
       "      <th>2</th>\n",
       "      <td>38.5</td>\n",
       "      <td>28.00</td>\n",
       "      <td>30.925828</td>\n",
       "      <td>NaN</td>\n",
       "      <td>max</td>\n",
       "    </tr>\n",
       "    <tr>\n",
       "      <th>3</th>\n",
       "      <td>48.0</td>\n",
       "      <td>8.50</td>\n",
       "      <td>38.728535</td>\n",
       "      <td>NaN</td>\n",
       "      <td>min</td>\n",
       "    </tr>\n",
       "    <tr>\n",
       "      <th>4</th>\n",
       "      <td>60.5</td>\n",
       "      <td>35.00</td>\n",
       "      <td>48.995255</td>\n",
       "      <td>NaN</td>\n",
       "      <td>max</td>\n",
       "    </tr>\n",
       "  </tbody>\n",
       "</table>\n",
       "</div>"
      ],
      "text/plain": [
       "   grid x  grid y  voltage (V)  current (nA) min or max\n",
       "0    17.5   20.50    13.677739           NaN        max\n",
       "1    26.5    9.25    21.069777           NaN        min\n",
       "2    38.5   28.00    30.925828           NaN        max\n",
       "3    48.0    8.50    38.728535           NaN        min\n",
       "4    60.5   35.00    48.995255           NaN        max"
      ]
     },
     "execution_count": 32,
     "metadata": {},
     "output_type": "execute_result"
    }
   ],
   "source": [
    "Ne_pda = pd.read_excel(FHdata, 'Neon PDA Min and Max')\n",
    "# apply the calibration to the Voltage data\n",
    "Ne_pda['voltage (V)'] = Ne_calib_fit.params['slope'].value * Ne_pda['grid x'] + Ne_calib_fit.params['intercept'].value\n",
    "Ne_pda.head()"
   ]
  },
  {
   "cell_type": "code",
   "execution_count": 33,
   "metadata": {},
   "outputs": [],
   "source": [
    "# select min and max values\n",
    "Ne_pda_min = Ne_pda.loc[Ne_pda['min or max'] == 'min']\n",
    "Ne_pda_max = Ne_pda.loc[Ne_pda['min or max'] == 'max']"
   ]
  },
  {
   "cell_type": "code",
   "execution_count": 38,
   "metadata": {},
   "outputs": [
    {
     "name": "stderr",
     "output_type": "stream",
     "text": [
      "C:\\Users\\alber\\AppData\\Local\\Temp/ipykernel_198636/3786356982.py:2: SettingWithCopyWarning: \n",
      "A value is trying to be set on a copy of a slice from a DataFrame.\n",
      "Try using .loc[row_indexer,col_indexer] = value instead\n",
      "\n",
      "See the caveats in the documentation: https://pandas.pydata.org/pandas-docs/stable/user_guide/indexing.html#returning-a-view-versus-a-copy\n",
      "  Ne_pda_min['peak number'] = np.linspace(1,len(Ne_pda_min),len(Ne_pda_min), dtype=int)\n",
      "C:\\Users\\alber\\AppData\\Local\\Temp/ipykernel_198636/3786356982.py:3: SettingWithCopyWarning: \n",
      "A value is trying to be set on a copy of a slice from a DataFrame.\n",
      "Try using .loc[row_indexer,col_indexer] = value instead\n",
      "\n",
      "See the caveats in the documentation: https://pandas.pydata.org/pandas-docs/stable/user_guide/indexing.html#returning-a-view-versus-a-copy\n",
      "  Ne_pda_max['peak number'] = np.linspace(1,len(Ne_pda_max),len(Ne_pda_max), dtype=int)\n"
     ]
    }
   ],
   "source": [
    "# add a column of peak number for the min and max data as their order in the data\n",
    "Ne_pda_min['peak number'] = np.linspace(1,len(Ne_pda_min),len(Ne_pda_min), dtype=int)\n",
    "Ne_pda_max['peak number'] = np.linspace(1,len(Ne_pda_max),len(Ne_pda_max), dtype=int)"
   ]
  },
  {
   "cell_type": "markdown",
   "metadata": {},
   "source": [
    "Make a plot, just to check that it looks OK."
   ]
  },
  {
   "cell_type": "code",
   "execution_count": 39,
   "metadata": {},
   "outputs": [
    {
     "data": {
      "text/plain": [
       "<matplotlib.legend.Legend at 0x1439c23da90>"
      ]
     },
     "execution_count": 39,
     "metadata": {},
     "output_type": "execute_result"
    },
    {
     "data": {
      "image/png": "[encoded data removed]",
      "text/plain": [
       "<Figure size 864x576 with 1 Axes>"
      ]
     },
     "metadata": {
      "needs_background": "light"
     },
     "output_type": "display_data"
    }
   ],
   "source": [
    "# plot min and max values of voltage separately versus peak number\n",
    "plt.figure(figsize=(12,8))\n",
    "plt.grid()\n",
    "plt.title('Neon Franck-Hertz Analysis',fontsize=14)\n",
    "plt.ylabel('Peak/Trough Position (V)',fontsize=14)\n",
    "plt.xlabel('Peak/Trough Number',fontsize=14)\n",
    "plt.scatter(Ne_pda_min['peak number'],Ne_pda_min['voltage (V)'],label='min',color='red')\n",
    "plt.scatter(Ne_pda_max['peak number'],Ne_pda_max['voltage (V)'],label='max',color='blue')\n",
    "plt.legend()"
   ]
  },
  {
   "cell_type": "markdown",
   "metadata": {},
   "source": [
    "### Fit the peak/trough positions \n",
    "\n",
    "Fit the peak and trough positions versus number in two different ways: with a line, to find the average spacing, and with a quadratic, to find the coefficients to apply to the model of RSB.  Save the fit results.  Recommended: just same the `params` object as a whole.\n",
    "\n",
    "To fit to a quadratic, you may us the `QuadraticModel` in exactly the same way as the `LinearModel`.  Look up **QuadraticModel** in the LMFit documenation for details.\n",
    "\n",
    "#### Neon troughs first"
   ]
  },
  {
   "cell_type": "code",
   "execution_count": 43,
   "metadata": {},
   "outputs": [],
   "source": [
    "# define the model fit function\n",
    "def model_fit(xdata,ydata,model=LinearModel()):\n",
    "    # Fit the data\n",
    "    params = model.guess(ydata, x=xdata)\n",
    "    fit = model.fit(ydata, params, x=xdata)\n",
    "    return fit"
   ]
  },
  {
   "cell_type": "code",
   "execution_count": 44,
   "metadata": {},
   "outputs": [],
   "source": [
    "# Troughs line linear fit\n",
    "Ne_min_Lfit = model_fit(Ne_pda_min['peak number'],Ne_pda_min['voltage (V)'], model=LinearModel())"
   ]
  },
  {
   "cell_type": "code",
   "execution_count": 45,
   "metadata": {},
   "outputs": [],
   "source": [
    "# throughs line quadratic fit\n",
    "Ne_min_Qfit = model_fit(Ne_pda_min['peak number'],Ne_pda_min['voltage (V)'], model=QuadraticModel())"
   ]
  },
  {
   "cell_type": "markdown",
   "metadata": {},
   "source": [
    "#### Now neon peaks"
   ]
  },
  {
   "cell_type": "code",
   "execution_count": 46,
   "metadata": {},
   "outputs": [],
   "source": [
    "# Peaks line linear fit\n",
    "Ne_max_Lfit = model_fit(Ne_pda_max['peak number'],Ne_pda_max['voltage (V)'], model=LinearModel())"
   ]
  },
  {
   "cell_type": "code",
   "execution_count": 47,
   "metadata": {},
   "outputs": [],
   "source": [
    "# Peaks quadratic\n",
    "Ne_max_Qfit = model_fit(Ne_pda_max['peak number'],Ne_pda_max['voltage (V)'], model=QuadraticModel())"
   ]
  },
  {
   "cell_type": "markdown",
   "metadata": {},
   "source": [
    "### Plot the fitlines over the data\n",
    "\n",
    "Show, on a single plot, the peak positions, the trough positions (both as dots) with fit lines and fit curves for each.  One member of the grou should include this plot in your Group Document.\n",
    "\n",
    "Use the `model.eval()` function with the saved parameters to build fit lines. "
   ]
  },
  {
   "cell_type": "code",
   "execution_count": 50,
   "metadata": {},
   "outputs": [
    {
     "data": {
      "text/plain": [
       "<matplotlib.legend.Legend at 0x1439c445eb0>"
      ]
     },
     "execution_count": 50,
     "metadata": {},
     "output_type": "execute_result"
    },
    {
     "data": {
      "image/png": "[encoded data removed]",
      "text/plain": [
       "<Figure size 864x576 with 1 Axes>"
      ]
     },
     "metadata": {
      "needs_background": "light"
     },
     "output_type": "display_data"
    }
   ],
   "source": [
    "# For a smooth curve make an x range with a bunch of points.  100 should be fine.\n",
    "xfit = np.linspace(0,4.5,100)\n",
    "# calculate the y values for the fit\n",
    "y_ne_min_Lfit = Ne_min_Lfit.eval(x=xfit)\n",
    "y_ne_min_Qfit = Ne_min_Qfit.eval(x=xfit)\n",
    "y_ne_max_Lfit = Ne_max_Lfit.eval(x=xfit)\n",
    "y_ne_max_Qfit = Ne_max_Qfit.eval(x=xfit)\n",
    "# Then redo the above plot with fit lines and curves\n",
    "plt.figure(figsize=(12,8))\n",
    "plt.grid()\n",
    "plt.title('Neon Franck-Hertz Analysis',fontsize=14)\n",
    "plt.ylabel('Peak/Trough Position (V)',fontsize=14)\n",
    "plt.xlabel('Peak/Trough Number',fontsize=14)\n",
    "plt.scatter(Ne_pda_min['peak number'],Ne_pda_min['voltage (V)'],label='min',color='red')\n",
    "plt.scatter(Ne_pda_max['peak number'],Ne_pda_max['voltage (V)'],label='max',color='blue')\n",
    "plt.plot(xfit,y_ne_min_Lfit,label='min linear fit',color='red')\n",
    "plt.plot(xfit,y_ne_min_Qfit,label='min quadratic fit',color='red',linestyle='--')\n",
    "plt.plot(xfit,y_ne_max_Lfit,label='max linear fit',color='blue')\n",
    "plt.plot(xfit,y_ne_max_Qfit,label='max quadratic fit',color='blue',linestyle='--')\n",
    "plt.legend()"
   ]
  },
  {
   "cell_type": "markdown",
   "metadata": {},
   "source": [
    "### Take differences in peak/trough positions\n",
    "\n",
    "Next, apply the RSB approach as they describe it, by taking the <i>differences</i> in the positions of subsequent features to create an array $\\Delta E(n) = E_n - E_{n-1}$; note $n$ is the upper number.\n",
    "\n",
    "Then, plot and fit these to a line.  The energy of the lowest excited state should be given by $\\Delta E(0.5)$.  Save the fit parameters as before."
   ]
  },
  {
   "cell_type": "code",
   "execution_count": 54,
   "metadata": {},
   "outputs": [
    {
     "data": {
      "text/html": [
       "<div>\n",
       "<style scoped>\n",
       "    .dataframe tbody tr th:only-of-type {\n",
       "        vertical-align: middle;\n",
       "    }\n",
       "\n",
       "    .dataframe tbody tr th {\n",
       "        vertical-align: top;\n",
       "    }\n",
       "\n",
       "    .dataframe thead th {\n",
       "        text-align: right;\n",
       "    }\n",
       "</style>\n",
       "<table border=\"1\" class=\"dataframe\">\n",
       "  <thead>\n",
       "    <tr style=\"text-align: right;\">\n",
       "      <th></th>\n",
       "      <th>grid x</th>\n",
       "      <th>grid y</th>\n",
       "      <th>voltage (V)</th>\n",
       "      <th>current (nA)</th>\n",
       "      <th>min or max</th>\n",
       "      <th>peak number</th>\n",
       "      <th>difference</th>\n",
       "    </tr>\n",
       "  </thead>\n",
       "  <tbody>\n",
       "    <tr>\n",
       "      <th>1</th>\n",
       "      <td>26.5</td>\n",
       "      <td>9.25</td>\n",
       "      <td>21.069777</td>\n",
       "      <td>NaN</td>\n",
       "      <td>min</td>\n",
       "      <td>1</td>\n",
       "      <td>NaN</td>\n",
       "    </tr>\n",
       "    <tr>\n",
       "      <th>3</th>\n",
       "      <td>48.0</td>\n",
       "      <td>8.50</td>\n",
       "      <td>38.728535</td>\n",
       "      <td>NaN</td>\n",
       "      <td>min</td>\n",
       "      <td>2</td>\n",
       "      <td>17.658758</td>\n",
       "    </tr>\n",
       "    <tr>\n",
       "      <th>5</th>\n",
       "      <td>71.0</td>\n",
       "      <td>15.50</td>\n",
       "      <td>57.619299</td>\n",
       "      <td>NaN</td>\n",
       "      <td>min</td>\n",
       "      <td>3</td>\n",
       "      <td>18.890764</td>\n",
       "    </tr>\n",
       "  </tbody>\n",
       "</table>\n",
       "</div>"
      ],
      "text/plain": [
       "   grid x  grid y  voltage (V)  current (nA) min or max  peak number  \\\n",
       "1    26.5    9.25    21.069777           NaN        min            1   \n",
       "3    48.0    8.50    38.728535           NaN        min            2   \n",
       "5    71.0   15.50    57.619299           NaN        min            3   \n",
       "\n",
       "   difference  \n",
       "1         NaN  \n",
       "3   17.658758  \n",
       "5   18.890764  "
      ]
     },
     "execution_count": 54,
     "metadata": {},
     "output_type": "execute_result"
    }
   ],
   "source": [
    "Ne_pda_min"
   ]
  },
  {
   "cell_type": "code",
   "execution_count": 57,
   "metadata": {},
   "outputs": [
    {
     "data": {
      "text/html": [
       "<div>\n",
       "<style scoped>\n",
       "    .dataframe tbody tr th:only-of-type {\n",
       "        vertical-align: middle;\n",
       "    }\n",
       "\n",
       "    .dataframe tbody tr th {\n",
       "        vertical-align: top;\n",
       "    }\n",
       "\n",
       "    .dataframe thead th {\n",
       "        text-align: right;\n",
       "    }\n",
       "</style>\n",
       "<table border=\"1\" class=\"dataframe\">\n",
       "  <thead>\n",
       "    <tr style=\"text-align: right;\">\n",
       "      <th></th>\n",
       "      <th>grid x</th>\n",
       "      <th>grid y</th>\n",
       "      <th>voltage (V)</th>\n",
       "      <th>current (nA)</th>\n",
       "      <th>min or max</th>\n",
       "      <th>peak number</th>\n",
       "      <th>difference</th>\n",
       "    </tr>\n",
       "  </thead>\n",
       "  <tbody>\n",
       "    <tr>\n",
       "      <th>0</th>\n",
       "      <td>17.5</td>\n",
       "      <td>20.5</td>\n",
       "      <td>13.677739</td>\n",
       "      <td>NaN</td>\n",
       "      <td>max</td>\n",
       "      <td>1</td>\n",
       "      <td>NaN</td>\n",
       "    </tr>\n",
       "    <tr>\n",
       "      <th>2</th>\n",
       "      <td>38.5</td>\n",
       "      <td>28.0</td>\n",
       "      <td>30.925828</td>\n",
       "      <td>NaN</td>\n",
       "      <td>max</td>\n",
       "      <td>2</td>\n",
       "      <td>17.248089</td>\n",
       "    </tr>\n",
       "    <tr>\n",
       "      <th>4</th>\n",
       "      <td>60.5</td>\n",
       "      <td>35.0</td>\n",
       "      <td>48.995255</td>\n",
       "      <td>NaN</td>\n",
       "      <td>max</td>\n",
       "      <td>3</td>\n",
       "      <td>18.069427</td>\n",
       "    </tr>\n",
       "    <tr>\n",
       "      <th>6</th>\n",
       "      <td>84.5</td>\n",
       "      <td>42.5</td>\n",
       "      <td>68.707357</td>\n",
       "      <td>NaN</td>\n",
       "      <td>max</td>\n",
       "      <td>4</td>\n",
       "      <td>19.712102</td>\n",
       "    </tr>\n",
       "  </tbody>\n",
       "</table>\n",
       "</div>"
      ],
      "text/plain": [
       "   grid x  grid y  voltage (V)  current (nA) min or max  peak number  \\\n",
       "0    17.5    20.5    13.677739           NaN        max            1   \n",
       "2    38.5    28.0    30.925828           NaN        max            2   \n",
       "4    60.5    35.0    48.995255           NaN        max            3   \n",
       "6    84.5    42.5    68.707357           NaN        max            4   \n",
       "\n",
       "   difference  \n",
       "0         NaN  \n",
       "2   17.248089  \n",
       "4   18.069427  \n",
       "6   19.712102  "
      ]
     },
     "execution_count": 57,
     "metadata": {},
     "output_type": "execute_result"
    }
   ],
   "source": [
    "Ne_pda_max"
   ]
  },
  {
   "cell_type": "code",
   "execution_count": 55,
   "metadata": {},
   "outputs": [
    {
     "name": "stdout",
     "output_type": "stream",
     "text": [
      "[nan, 17.658758072421538, 18.89076444956723]\n",
      "[nan, 17.24808928003964, 18.06942686480344, 19.712102034331018]\n"
     ]
    },
    {
     "name": "stderr",
     "output_type": "stream",
     "text": [
      "C:\\Users\\alber\\AppData\\Local\\Temp/ipykernel_198636/3918169898.py:2: SettingWithCopyWarning: \n",
      "A value is trying to be set on a copy of a slice from a DataFrame.\n",
      "Try using .loc[row_indexer,col_indexer] = value instead\n",
      "\n",
      "See the caveats in the documentation: https://pandas.pydata.org/pandas-docs/stable/user_guide/indexing.html#returning-a-view-versus-a-copy\n",
      "  Ne_pda_min['difference'] = Ne_pda_min['voltage (V)'] - Ne_pda_min['voltage (V)'].shift(1)\n",
      "C:\\Users\\alber\\AppData\\Local\\Temp/ipykernel_198636/3918169898.py:3: SettingWithCopyWarning: \n",
      "A value is trying to be set on a copy of a slice from a DataFrame.\n",
      "Try using .loc[row_indexer,col_indexer] = value instead\n",
      "\n",
      "See the caveats in the documentation: https://pandas.pydata.org/pandas-docs/stable/user_guide/indexing.html#returning-a-view-versus-a-copy\n",
      "  Ne_pda_max['difference'] = Ne_pda_max['voltage (V)'] - Ne_pda_max['voltage (V)'].shift(1)\n"
     ]
    }
   ],
   "source": [
    "# calculate difference in each rows by subtracting the next row from the current row\n",
    "Ne_pda_min['difference'] = Ne_pda_min['voltage (V)'] - Ne_pda_min['voltage (V)'].shift(1)\n",
    "Ne_pda_max['difference'] = Ne_pda_max['voltage (V)'] - Ne_pda_max['voltage (V)'].shift(1)\n",
    "Ne_pda['difference'] = Ne_pda['voltage (V)'] - Ne_pda['voltage (V)'].shift(1)\n",
    "\n",
    "# print the difference between each row as a list\n",
    "print(Ne_pda_min['difference'].tolist())\n",
    "print(Ne_pda_max['difference'].tolist())"
   ]
  },
  {
   "cell_type": "code",
   "execution_count": 73,
   "metadata": {
    "scrolled": false
   },
   "outputs": [],
   "source": [
    "# Drop the first row as it is NaN and fit the min difference to linear\n",
    "select_min_diff = Ne_pda_min.drop([1])\n",
    "Ne_min_diff_fit = model_fit(select_min_diff['peak number'],select_min_diff['difference'], model=LinearModel())\n"
   ]
  },
  {
   "cell_type": "code",
   "execution_count": 76,
   "metadata": {},
   "outputs": [],
   "source": [
    "# Next, peak diffs\n",
    "select_max_diff = Ne_pda_max.drop([0])\n",
    "Ne_max_diff_fit = model_fit(select_max_diff['peak number'],select_max_diff['difference'], model=LinearModel())\n"
   ]
  },
  {
   "cell_type": "markdown",
   "metadata": {},
   "source": [
    "### Make a differences plot\n",
    "\n",
    "Show, on a single plot, the peak position differences, the trough position differences (both as dots) with fit lines for each.  One member of the grou should include this plot in your Group Document."
   ]
  },
  {
   "cell_type": "code",
   "execution_count": 79,
   "metadata": {},
   "outputs": [
    {
     "data": {
      "text/plain": [
       "<matplotlib.legend.Legend at 0x1439c0e0dc0>"
      ]
     },
     "execution_count": 79,
     "metadata": {},
     "output_type": "execute_result"
    },
    {
     "data": {
      "image/png": "[encoded data removed]",
      "text/plain": [
       "<Figure size 864x576 with 1 Axes>"
      ]
     },
     "metadata": {
      "needs_background": "light"
     },
     "output_type": "display_data"
    }
   ],
   "source": [
    "# Plot here\n",
    "# Show, on a single plot, the peak position differences, the trough position differences (both as dots) with fit lines for each.\n",
    "plt.figure(figsize=(12,8))\n",
    "plt.grid()\n",
    "plt.title('Neon Franck-Hertz Analysis',fontsize=14)\n",
    "plt.ylabel('Peak/Trough Spacing (V)',fontsize=14)\n",
    "plt.xlabel('Peak/Trough Number',fontsize=14)\n",
    "plt.scatter(select_min_diff['peak number'],select_min_diff['difference'],label='min',color='red')\n",
    "plt.scatter(select_max_diff['peak number'],select_max_diff['difference'],label='max',color='blue')\n",
    "xfit = np.linspace(0,4.5,100)\n",
    "plt.plot(xfit,Ne_min_diff_fit.eval(x=xfit),label='min difference linear fit',color='red')\n",
    "plt.plot(xfit,Ne_max_diff_fit.eval(x=xfit),label='max difference linear fit',color='blue')\n",
    "plt.legend()"
   ]
  },
  {
   "cell_type": "markdown",
   "metadata": {},
   "source": [
    "## Final results for neon excited state\n",
    "\n",
    "Compare fit coefficients from the quadratic to similar from the RSB difference method.  Then calculate values for the lowest excited state of Neon from the three methods of analyzing the data set: simple average peak spacing, and RSB calculation from the results of the other two fits.\n",
    "\n",
    "From the RSB analysis, expect energy troughs to follow\n",
    "\n",
    "$$ E_n = E_a\\frac{\\lambda}{L}n^2 + E_an + c  = an^2 + bn +c$$\n",
    "\n",
    "where $c$ is a constant, $n$ is the trough number, $\\lambda/L$ is the ratio of the mean free path to the total travel distance from electrode to electrode, and $E_a$ is the lowest excited state.\n",
    "\n",
    "Taking differences, RSB derive\n",
    "\n",
    "$$ \\Delta E(n) = E_{n} - E_{n-1} = E_a\\left(1-\\frac{\\lambda}{L}\\right) + E_a2\\frac{\\lambda}{L}n = p + mn$$\n",
    "\n",
    "Thus, a quadratic fit to the trough positions should give $E_a$ as the linear-term coefficient, and a linear fit to  the differences in trough positions should give a line that evaluates to $E_a$ for $n=0.5$.\n",
    "\n",
    "Further, if $m$ and $p$ are the slope and intercept of the linear fit to the differences, and $a$, $b$, and $c$ are the 2nd, 1st and 0th order coefficients in the quadratic fit to trough positions, then we expect $p=b-a$ and $m=2a$."
   ]
  },
  {
   "cell_type": "code",
   "execution_count": 82,
   "metadata": {},
   "outputs": [
    {
     "name": "stdout",
     "output_type": "stream",
     "text": [
      "CONISISTENCY CHECK OF FIT COEFFICIENTS IN RSB METHOD\n",
      "Troughs analysis:\n",
      "p = b-a: 15.19 = 15.19 = 15.81-0.62\n",
      "m = 2a: 1.23 = 1.23 = 2*0.62\n",
      "\n",
      "Peaks analysis:\n",
      "p = b-a: 14.62 = 14.62 = 15.24-0.62\n",
      "m = 2a: 1.23 = 1.23 = 2*0.62\n",
      "\n",
      "\n",
      "CALCULATION OF FIRST EXCITED STATE OF NEON FROM DIFFERENT METHODS\n",
      "\"Traditional\" average peak spacing: 18.34 V\n",
      "\"Traditional\" average trough spacing: 18.27 V\n",
      "\n",
      "RSB method using line fit to peak/trough position differences\n",
      "E_a = p + m/2= 15.19 + 1.23/2 = 15.81\n",
      "\n",
      "RSB method using quadratic fit to peak/trough positions\n",
      "E_a = b = 15.81\n"
     ]
    }
   ],
   "source": [
    "print('CONISISTENCY CHECK OF FIT COEFFICIENTS IN RSB METHOD')\n",
    "print('Troughs analysis:')\n",
    "a = Ne_min_Qfit.params['a'].value\n",
    "b = Ne_min_Qfit.params['b'].value\n",
    "p = b-a\n",
    "m = 2*a\n",
    "print('p = b-a: {:.2f} = {:.2f} = {:.2f}-{:.2f}'.format(p,b-a,b,a))\n",
    "print('m = 2a: {:.2f} = {:.2f} = 2*{:.2f}'.format(m,2*a,a))\n",
    "\n",
    "print('\\nPeaks analysis:')\n",
    "a = Ne_max_Qfit.params['a'].value\n",
    "b = Ne_max_Qfit.params['b'].value\n",
    "p = b-a\n",
    "m = 2*a\n",
    "print('p = b-a: {:.2f} = {:.2f} = {:.2f}-{:.2f}'.format(p,b-a,b,a))\n",
    "print('m = 2a: {:.2f} = {:.2f} = 2*{:.2f}'.format(m,2*a,a))\n",
    "\n",
    "print('\\n\\nCALCULATION OF FIRST EXCITED STATE OF NEON FROM DIFFERENT METHODS')\n",
    "Ea_trad_pk = np.mean(select_max_diff['difference'])\n",
    "Ea_trad_tr = np.mean(select_min_diff['difference'])\n",
    "print('\"Traditional\" average peak spacing: {:.2f} V'.format(Ea_trad_pk))\n",
    "print('\"Traditional\" average trough spacing: {:.2f} V'.format(Ea_trad_tr))\n",
    "\n",
    "# From quadratic fit, see E_a as parameter b\n",
    "# From RSB n=1/2 method, E_a = p + m/2\n",
    "a = Ne_min_Qfit.params['a'].value\n",
    "b = Ne_min_Qfit.params['b'].value\n",
    "p = b-a\n",
    "m = 2*a\n",
    "\n",
    "print('\\nRSB method using line fit to peak/trough position differences')\n",
    "\n",
    "print('E_a = p + m/2= {:.2f} + {:.2f}/2 = {:.2f}'.format(p,m,p+m/2))\n",
    "\n",
    "print('\\nRSB method using quadratic fit to peak/trough positions')\n",
    "\n",
    "print('E_a = b = {:.2f}'.format(b))\n"
   ]
  },
  {
   "cell_type": "markdown",
   "metadata": {},
   "source": [
    "## Calculate the 3p-3s energy spacing\n",
    "\n",
    "Calculate the differences between similar closely spaced features in the lock-in scan for neon.  Convert paper positions to voltages first, then take differences and make a list.  See if they are similar values.  Then take an average."
   ]
  },
  {
   "cell_type": "code",
   "execution_count": 84,
   "metadata": {},
   "outputs": [
    {
     "data": {
      "text/html": [
       "<div>\n",
       "<style scoped>\n",
       "    .dataframe tbody tr th:only-of-type {\n",
       "        vertical-align: middle;\n",
       "    }\n",
       "\n",
       "    .dataframe tbody tr th {\n",
       "        vertical-align: top;\n",
       "    }\n",
       "\n",
       "    .dataframe thead th {\n",
       "        text-align: right;\n",
       "    }\n",
       "</style>\n",
       "<table border=\"1\" class=\"dataframe\">\n",
       "  <thead>\n",
       "    <tr style=\"text-align: right;\">\n",
       "      <th></th>\n",
       "      <th>grid x</th>\n",
       "      <th>grid y</th>\n",
       "      <th>voltage (V)</th>\n",
       "      <th>current (nA)</th>\n",
       "      <th>feature</th>\n",
       "    </tr>\n",
       "  </thead>\n",
       "  <tbody>\n",
       "    <tr>\n",
       "      <th>0</th>\n",
       "      <td>11.00</td>\n",
       "      <td>72.00</td>\n",
       "      <td>NaN</td>\n",
       "      <td>NaN</td>\n",
       "      <td>A</td>\n",
       "    </tr>\n",
       "    <tr>\n",
       "      <th>1</th>\n",
       "      <td>16.25</td>\n",
       "      <td>67.00</td>\n",
       "      <td>NaN</td>\n",
       "      <td>NaN</td>\n",
       "      <td>B</td>\n",
       "    </tr>\n",
       "    <tr>\n",
       "      <th>2</th>\n",
       "      <td>26.00</td>\n",
       "      <td>59.75</td>\n",
       "      <td>NaN</td>\n",
       "      <td>NaN</td>\n",
       "      <td>C</td>\n",
       "    </tr>\n",
       "    <tr>\n",
       "      <th>3</th>\n",
       "      <td>30.25</td>\n",
       "      <td>85.50</td>\n",
       "      <td>NaN</td>\n",
       "      <td>NaN</td>\n",
       "      <td>D</td>\n",
       "    </tr>\n",
       "    <tr>\n",
       "      <th>4</th>\n",
       "      <td>34.75</td>\n",
       "      <td>75.70</td>\n",
       "      <td>NaN</td>\n",
       "      <td>NaN</td>\n",
       "      <td>E</td>\n",
       "    </tr>\n",
       "  </tbody>\n",
       "</table>\n",
       "</div>"
      ],
      "text/plain": [
       "   grid x  grid y  voltage (V)  current (nA) feature\n",
       "0   11.00   72.00          NaN           NaN       A\n",
       "1   16.25   67.00          NaN           NaN       B\n",
       "2   26.00   59.75          NaN           NaN       C\n",
       "3   30.25   85.50          NaN           NaN       D\n",
       "4   34.75   75.70          NaN           NaN       E"
      ]
     },
     "execution_count": 84,
     "metadata": {},
     "output_type": "execute_result"
    }
   ],
   "source": [
    "# read neon lock in small feature\n",
    "Ne_SF = pd.read_excel(FHdata, sheet_name='Neon Lock-In Small Features')\n",
    "Ne_SF.head()"
   ]
  },
  {
   "cell_type": "code",
   "execution_count": 86,
   "metadata": {},
   "outputs": [
    {
     "data": {
      "text/html": [
       "<div>\n",
       "<style scoped>\n",
       "    .dataframe tbody tr th:only-of-type {\n",
       "        vertical-align: middle;\n",
       "    }\n",
       "\n",
       "    .dataframe tbody tr th {\n",
       "        vertical-align: top;\n",
       "    }\n",
       "\n",
       "    .dataframe thead th {\n",
       "        text-align: right;\n",
       "    }\n",
       "</style>\n",
       "<table border=\"1\" class=\"dataframe\">\n",
       "  <thead>\n",
       "    <tr style=\"text-align: right;\">\n",
       "      <th></th>\n",
       "      <th>grid x</th>\n",
       "      <th>grid y</th>\n",
       "      <th>voltage (V)</th>\n",
       "      <th>current (nA)</th>\n",
       "      <th>feature</th>\n",
       "    </tr>\n",
       "  </thead>\n",
       "  <tbody>\n",
       "    <tr>\n",
       "      <th>0</th>\n",
       "      <td>11.00</td>\n",
       "      <td>72.00</td>\n",
       "      <td>8.339044</td>\n",
       "      <td>NaN</td>\n",
       "      <td>A</td>\n",
       "    </tr>\n",
       "    <tr>\n",
       "      <th>1</th>\n",
       "      <td>16.25</td>\n",
       "      <td>67.00</td>\n",
       "      <td>12.651067</td>\n",
       "      <td>NaN</td>\n",
       "      <td>B</td>\n",
       "    </tr>\n",
       "    <tr>\n",
       "      <th>2</th>\n",
       "      <td>26.00</td>\n",
       "      <td>59.75</td>\n",
       "      <td>20.659108</td>\n",
       "      <td>NaN</td>\n",
       "      <td>C</td>\n",
       "    </tr>\n",
       "    <tr>\n",
       "      <th>3</th>\n",
       "      <td>30.25</td>\n",
       "      <td>85.50</td>\n",
       "      <td>24.149793</td>\n",
       "      <td>NaN</td>\n",
       "      <td>D</td>\n",
       "    </tr>\n",
       "    <tr>\n",
       "      <th>4</th>\n",
       "      <td>34.75</td>\n",
       "      <td>75.70</td>\n",
       "      <td>27.845812</td>\n",
       "      <td>NaN</td>\n",
       "      <td>E</td>\n",
       "    </tr>\n",
       "    <tr>\n",
       "      <th>5</th>\n",
       "      <td>35.75</td>\n",
       "      <td>73.25</td>\n",
       "      <td>28.667150</td>\n",
       "      <td>NaN</td>\n",
       "      <td>F</td>\n",
       "    </tr>\n",
       "    <tr>\n",
       "      <th>6</th>\n",
       "      <td>41.00</td>\n",
       "      <td>39.00</td>\n",
       "      <td>32.979172</td>\n",
       "      <td>NaN</td>\n",
       "      <td>G</td>\n",
       "    </tr>\n",
       "    <tr>\n",
       "      <th>7</th>\n",
       "      <td>47.00</td>\n",
       "      <td>48.00</td>\n",
       "      <td>37.907197</td>\n",
       "      <td>NaN</td>\n",
       "      <td>H</td>\n",
       "    </tr>\n",
       "    <tr>\n",
       "      <th>8</th>\n",
       "      <td>48.50</td>\n",
       "      <td>82.00</td>\n",
       "      <td>39.139204</td>\n",
       "      <td>NaN</td>\n",
       "      <td>I</td>\n",
       "    </tr>\n",
       "    <tr>\n",
       "      <th>9</th>\n",
       "      <td>49.50</td>\n",
       "      <td>75.50</td>\n",
       "      <td>39.960541</td>\n",
       "      <td>NaN</td>\n",
       "      <td>J</td>\n",
       "    </tr>\n",
       "    <tr>\n",
       "      <th>10</th>\n",
       "      <td>51.00</td>\n",
       "      <td>90.00</td>\n",
       "      <td>41.192548</td>\n",
       "      <td>NaN</td>\n",
       "      <td>K</td>\n",
       "    </tr>\n",
       "    <tr>\n",
       "      <th>11</th>\n",
       "      <td>51.75</td>\n",
       "      <td>89.00</td>\n",
       "      <td>41.808551</td>\n",
       "      <td>NaN</td>\n",
       "      <td>L</td>\n",
       "    </tr>\n",
       "    <tr>\n",
       "      <th>12</th>\n",
       "      <td>52.50</td>\n",
       "      <td>90.00</td>\n",
       "      <td>42.424554</td>\n",
       "      <td>NaN</td>\n",
       "      <td>M</td>\n",
       "    </tr>\n",
       "    <tr>\n",
       "      <th>13</th>\n",
       "      <td>53.75</td>\n",
       "      <td>87.75</td>\n",
       "      <td>43.451226</td>\n",
       "      <td>NaN</td>\n",
       "      <td>N</td>\n",
       "    </tr>\n",
       "    <tr>\n",
       "      <th>14</th>\n",
       "      <td>55.00</td>\n",
       "      <td>87.75</td>\n",
       "      <td>44.477898</td>\n",
       "      <td>NaN</td>\n",
       "      <td>O</td>\n",
       "    </tr>\n",
       "    <tr>\n",
       "      <th>15</th>\n",
       "      <td>57.00</td>\n",
       "      <td>86.50</td>\n",
       "      <td>46.120573</td>\n",
       "      <td>NaN</td>\n",
       "      <td>P</td>\n",
       "    </tr>\n",
       "    <tr>\n",
       "      <th>16</th>\n",
       "      <td>69.00</td>\n",
       "      <td>53.50</td>\n",
       "      <td>55.976624</td>\n",
       "      <td>NaN</td>\n",
       "      <td>Q</td>\n",
       "    </tr>\n",
       "    <tr>\n",
       "      <th>17</th>\n",
       "      <td>70.00</td>\n",
       "      <td>51.00</td>\n",
       "      <td>56.797962</td>\n",
       "      <td>NaN</td>\n",
       "      <td>R</td>\n",
       "    </tr>\n",
       "    <tr>\n",
       "      <th>18</th>\n",
       "      <td>71.00</td>\n",
       "      <td>70.50</td>\n",
       "      <td>57.619299</td>\n",
       "      <td>NaN</td>\n",
       "      <td>S</td>\n",
       "    </tr>\n",
       "    <tr>\n",
       "      <th>19</th>\n",
       "      <td>72.00</td>\n",
       "      <td>71.00</td>\n",
       "      <td>58.440637</td>\n",
       "      <td>NaN</td>\n",
       "      <td>T</td>\n",
       "    </tr>\n",
       "    <tr>\n",
       "      <th>20</th>\n",
       "      <td>88.00</td>\n",
       "      <td>42.00</td>\n",
       "      <td>71.582038</td>\n",
       "      <td>NaN</td>\n",
       "      <td>U</td>\n",
       "    </tr>\n",
       "    <tr>\n",
       "      <th>21</th>\n",
       "      <td>89.50</td>\n",
       "      <td>45.00</td>\n",
       "      <td>72.814045</td>\n",
       "      <td>NaN</td>\n",
       "      <td>V</td>\n",
       "    </tr>\n",
       "    <tr>\n",
       "      <th>22</th>\n",
       "      <td>90.50</td>\n",
       "      <td>41.00</td>\n",
       "      <td>73.635382</td>\n",
       "      <td>NaN</td>\n",
       "      <td>X</td>\n",
       "    </tr>\n",
       "    <tr>\n",
       "      <th>23</th>\n",
       "      <td>92.00</td>\n",
       "      <td>51.00</td>\n",
       "      <td>74.867389</td>\n",
       "      <td>NaN</td>\n",
       "      <td>Y</td>\n",
       "    </tr>\n",
       "    <tr>\n",
       "      <th>24</th>\n",
       "      <td>92.50</td>\n",
       "      <td>50.00</td>\n",
       "      <td>75.278058</td>\n",
       "      <td>NaN</td>\n",
       "      <td>Z</td>\n",
       "    </tr>\n",
       "  </tbody>\n",
       "</table>\n",
       "</div>"
      ],
      "text/plain": [
       "    grid x  grid y  voltage (V)  current (nA) feature\n",
       "0    11.00   72.00     8.339044           NaN       A\n",
       "1    16.25   67.00    12.651067           NaN       B\n",
       "2    26.00   59.75    20.659108           NaN       C\n",
       "3    30.25   85.50    24.149793           NaN       D\n",
       "4    34.75   75.70    27.845812           NaN       E\n",
       "5    35.75   73.25    28.667150           NaN       F\n",
       "6    41.00   39.00    32.979172           NaN       G\n",
       "7    47.00   48.00    37.907197           NaN       H\n",
       "8    48.50   82.00    39.139204           NaN       I\n",
       "9    49.50   75.50    39.960541           NaN       J\n",
       "10   51.00   90.00    41.192548           NaN       K\n",
       "11   51.75   89.00    41.808551           NaN       L\n",
       "12   52.50   90.00    42.424554           NaN       M\n",
       "13   53.75   87.75    43.451226           NaN       N\n",
       "14   55.00   87.75    44.477898           NaN       O\n",
       "15   57.00   86.50    46.120573           NaN       P\n",
       "16   69.00   53.50    55.976624           NaN       Q\n",
       "17   70.00   51.00    56.797962           NaN       R\n",
       "18   71.00   70.50    57.619299           NaN       S\n",
       "19   72.00   71.00    58.440637           NaN       T\n",
       "20   88.00   42.00    71.582038           NaN       U\n",
       "21   89.50   45.00    72.814045           NaN       V\n",
       "22   90.50   41.00    73.635382           NaN       X\n",
       "23   92.00   51.00    74.867389           NaN       Y\n",
       "24   92.50   50.00    75.278058           NaN       Z"
      ]
     },
     "execution_count": 86,
     "metadata": {},
     "output_type": "execute_result"
    }
   ],
   "source": [
    "# apply linear fit to grid x data and get voltage\n",
    "# Ne_pda['voltage (V)'] = Ne_calib_fit.params['slope'].value * Ne_pda['grid x'] + Ne_calib_fit.params['intercept'].value\n",
    "Ne_SF['voltage (V)'] = Ne_calib_fit.params['slope'].value * Ne_SF['grid x'] + Ne_calib_fit.params['intercept'].value\n",
    "Ne_SF"
   ]
  },
  {
   "cell_type": "code",
   "execution_count": 159,
   "metadata": {},
   "outputs": [
    {
     "data": {
      "text/html": [
       "<div>\n",
       "<style scoped>\n",
       "    .dataframe tbody tr th:only-of-type {\n",
       "        vertical-align: middle;\n",
       "    }\n",
       "\n",
       "    .dataframe tbody tr th {\n",
       "        vertical-align: top;\n",
       "    }\n",
       "\n",
       "    .dataframe thead th {\n",
       "        text-align: right;\n",
       "    }\n",
       "</style>\n",
       "<table border=\"1\" class=\"dataframe\">\n",
       "  <thead>\n",
       "    <tr style=\"text-align: right;\">\n",
       "      <th></th>\n",
       "      <th>grid x</th>\n",
       "      <th>grid y</th>\n",
       "      <th>voltage (V)</th>\n",
       "      <th>current (nA)</th>\n",
       "      <th>feature</th>\n",
       "      <th>difference</th>\n",
       "    </tr>\n",
       "  </thead>\n",
       "  <tbody>\n",
       "    <tr>\n",
       "      <th>0</th>\n",
       "      <td>11.00</td>\n",
       "      <td>72.00</td>\n",
       "      <td>8.339044</td>\n",
       "      <td>NaN</td>\n",
       "      <td>A</td>\n",
       "      <td>NaN</td>\n",
       "    </tr>\n",
       "    <tr>\n",
       "      <th>1</th>\n",
       "      <td>16.25</td>\n",
       "      <td>67.00</td>\n",
       "      <td>12.651067</td>\n",
       "      <td>NaN</td>\n",
       "      <td>B</td>\n",
       "      <td>NaN</td>\n",
       "    </tr>\n",
       "    <tr>\n",
       "      <th>2</th>\n",
       "      <td>26.00</td>\n",
       "      <td>59.75</td>\n",
       "      <td>20.659108</td>\n",
       "      <td>NaN</td>\n",
       "      <td>C</td>\n",
       "      <td>12.320064</td>\n",
       "    </tr>\n",
       "    <tr>\n",
       "      <th>3</th>\n",
       "      <td>30.25</td>\n",
       "      <td>85.50</td>\n",
       "      <td>24.149793</td>\n",
       "      <td>NaN</td>\n",
       "      <td>D</td>\n",
       "      <td>11.498726</td>\n",
       "    </tr>\n",
       "    <tr>\n",
       "      <th>4</th>\n",
       "      <td>34.75</td>\n",
       "      <td>75.70</td>\n",
       "      <td>27.845812</td>\n",
       "      <td>NaN</td>\n",
       "      <td>E</td>\n",
       "      <td>7.186704</td>\n",
       "    </tr>\n",
       "    <tr>\n",
       "      <th>5</th>\n",
       "      <td>35.75</td>\n",
       "      <td>73.25</td>\n",
       "      <td>28.667150</td>\n",
       "      <td>NaN</td>\n",
       "      <td>F</td>\n",
       "      <td>4.517357</td>\n",
       "    </tr>\n",
       "    <tr>\n",
       "      <th>6</th>\n",
       "      <td>41.00</td>\n",
       "      <td>39.00</td>\n",
       "      <td>32.979172</td>\n",
       "      <td>NaN</td>\n",
       "      <td>G</td>\n",
       "      <td>5.133360</td>\n",
       "    </tr>\n",
       "    <tr>\n",
       "      <th>7</th>\n",
       "      <td>47.00</td>\n",
       "      <td>48.00</td>\n",
       "      <td>37.907197</td>\n",
       "      <td>NaN</td>\n",
       "      <td>H</td>\n",
       "      <td>9.240048</td>\n",
       "    </tr>\n",
       "    <tr>\n",
       "      <th>8</th>\n",
       "      <td>48.50</td>\n",
       "      <td>82.00</td>\n",
       "      <td>39.139204</td>\n",
       "      <td>NaN</td>\n",
       "      <td>I</td>\n",
       "      <td>6.160032</td>\n",
       "    </tr>\n",
       "    <tr>\n",
       "      <th>9</th>\n",
       "      <td>49.50</td>\n",
       "      <td>75.50</td>\n",
       "      <td>39.960541</td>\n",
       "      <td>NaN</td>\n",
       "      <td>J</td>\n",
       "      <td>2.053344</td>\n",
       "    </tr>\n",
       "    <tr>\n",
       "      <th>10</th>\n",
       "      <td>51.00</td>\n",
       "      <td>90.00</td>\n",
       "      <td>41.192548</td>\n",
       "      <td>NaN</td>\n",
       "      <td>K</td>\n",
       "      <td>2.053344</td>\n",
       "    </tr>\n",
       "    <tr>\n",
       "      <th>11</th>\n",
       "      <td>51.75</td>\n",
       "      <td>89.00</td>\n",
       "      <td>41.808551</td>\n",
       "      <td>NaN</td>\n",
       "      <td>L</td>\n",
       "      <td>1.848010</td>\n",
       "    </tr>\n",
       "    <tr>\n",
       "      <th>12</th>\n",
       "      <td>52.50</td>\n",
       "      <td>90.00</td>\n",
       "      <td>42.424554</td>\n",
       "      <td>NaN</td>\n",
       "      <td>M</td>\n",
       "      <td>1.232006</td>\n",
       "    </tr>\n",
       "    <tr>\n",
       "      <th>13</th>\n",
       "      <td>53.75</td>\n",
       "      <td>87.75</td>\n",
       "      <td>43.451226</td>\n",
       "      <td>NaN</td>\n",
       "      <td>N</td>\n",
       "      <td>1.642675</td>\n",
       "    </tr>\n",
       "    <tr>\n",
       "      <th>14</th>\n",
       "      <td>55.00</td>\n",
       "      <td>87.75</td>\n",
       "      <td>44.477898</td>\n",
       "      <td>NaN</td>\n",
       "      <td>O</td>\n",
       "      <td>2.053344</td>\n",
       "    </tr>\n",
       "    <tr>\n",
       "      <th>15</th>\n",
       "      <td>57.00</td>\n",
       "      <td>86.50</td>\n",
       "      <td>46.120573</td>\n",
       "      <td>NaN</td>\n",
       "      <td>P</td>\n",
       "      <td>2.669347</td>\n",
       "    </tr>\n",
       "    <tr>\n",
       "      <th>16</th>\n",
       "      <td>69.00</td>\n",
       "      <td>53.50</td>\n",
       "      <td>55.976624</td>\n",
       "      <td>NaN</td>\n",
       "      <td>Q</td>\n",
       "      <td>11.498726</td>\n",
       "    </tr>\n",
       "    <tr>\n",
       "      <th>17</th>\n",
       "      <td>70.00</td>\n",
       "      <td>51.00</td>\n",
       "      <td>56.797962</td>\n",
       "      <td>NaN</td>\n",
       "      <td>R</td>\n",
       "      <td>10.677389</td>\n",
       "    </tr>\n",
       "    <tr>\n",
       "      <th>18</th>\n",
       "      <td>71.00</td>\n",
       "      <td>70.50</td>\n",
       "      <td>57.619299</td>\n",
       "      <td>NaN</td>\n",
       "      <td>S</td>\n",
       "      <td>1.642675</td>\n",
       "    </tr>\n",
       "    <tr>\n",
       "      <th>19</th>\n",
       "      <td>72.00</td>\n",
       "      <td>71.00</td>\n",
       "      <td>58.440637</td>\n",
       "      <td>NaN</td>\n",
       "      <td>T</td>\n",
       "      <td>1.642675</td>\n",
       "    </tr>\n",
       "    <tr>\n",
       "      <th>20</th>\n",
       "      <td>88.00</td>\n",
       "      <td>42.00</td>\n",
       "      <td>71.582038</td>\n",
       "      <td>NaN</td>\n",
       "      <td>U</td>\n",
       "      <td>13.962739</td>\n",
       "    </tr>\n",
       "    <tr>\n",
       "      <th>21</th>\n",
       "      <td>89.50</td>\n",
       "      <td>45.00</td>\n",
       "      <td>72.814045</td>\n",
       "      <td>NaN</td>\n",
       "      <td>V</td>\n",
       "      <td>14.373408</td>\n",
       "    </tr>\n",
       "    <tr>\n",
       "      <th>22</th>\n",
       "      <td>90.50</td>\n",
       "      <td>41.00</td>\n",
       "      <td>73.635382</td>\n",
       "      <td>NaN</td>\n",
       "      <td>X</td>\n",
       "      <td>2.053344</td>\n",
       "    </tr>\n",
       "    <tr>\n",
       "      <th>23</th>\n",
       "      <td>92.00</td>\n",
       "      <td>51.00</td>\n",
       "      <td>74.867389</td>\n",
       "      <td>NaN</td>\n",
       "      <td>Y</td>\n",
       "      <td>2.053344</td>\n",
       "    </tr>\n",
       "    <tr>\n",
       "      <th>24</th>\n",
       "      <td>92.50</td>\n",
       "      <td>50.00</td>\n",
       "      <td>75.278058</td>\n",
       "      <td>NaN</td>\n",
       "      <td>Z</td>\n",
       "      <td>1.642675</td>\n",
       "    </tr>\n",
       "  </tbody>\n",
       "</table>\n",
       "</div>"
      ],
      "text/plain": [
       "    grid x  grid y  voltage (V)  current (nA) feature  difference\n",
       "0    11.00   72.00     8.339044           NaN       A         NaN\n",
       "1    16.25   67.00    12.651067           NaN       B         NaN\n",
       "2    26.00   59.75    20.659108           NaN       C   12.320064\n",
       "3    30.25   85.50    24.149793           NaN       D   11.498726\n",
       "4    34.75   75.70    27.845812           NaN       E    7.186704\n",
       "5    35.75   73.25    28.667150           NaN       F    4.517357\n",
       "6    41.00   39.00    32.979172           NaN       G    5.133360\n",
       "7    47.00   48.00    37.907197           NaN       H    9.240048\n",
       "8    48.50   82.00    39.139204           NaN       I    6.160032\n",
       "9    49.50   75.50    39.960541           NaN       J    2.053344\n",
       "10   51.00   90.00    41.192548           NaN       K    2.053344\n",
       "11   51.75   89.00    41.808551           NaN       L    1.848010\n",
       "12   52.50   90.00    42.424554           NaN       M    1.232006\n",
       "13   53.75   87.75    43.451226           NaN       N    1.642675\n",
       "14   55.00   87.75    44.477898           NaN       O    2.053344\n",
       "15   57.00   86.50    46.120573           NaN       P    2.669347\n",
       "16   69.00   53.50    55.976624           NaN       Q   11.498726\n",
       "17   70.00   51.00    56.797962           NaN       R   10.677389\n",
       "18   71.00   70.50    57.619299           NaN       S    1.642675\n",
       "19   72.00   71.00    58.440637           NaN       T    1.642675\n",
       "20   88.00   42.00    71.582038           NaN       U   13.962739\n",
       "21   89.50   45.00    72.814045           NaN       V   14.373408\n",
       "22   90.50   41.00    73.635382           NaN       X    2.053344\n",
       "23   92.00   51.00    74.867389           NaN       Y    2.053344\n",
       "24   92.50   50.00    75.278058           NaN       Z    1.642675"
      ]
     },
     "execution_count": 159,
     "metadata": {},
     "output_type": "execute_result"
    }
   ],
   "source": [
    "# to get the peak to peak value, there must be at least one features away from each other\n",
    "# calculate difference in each rows by subtracting the next 2 row from the current row\n",
    "Ne_SF['difference'] = Ne_SF['voltage (V)'] - Ne_SF['voltage (V)'].shift(2)\n",
    "Ne_SF"
   ]
  },
  {
   "cell_type": "code",
   "execution_count": 151,
   "metadata": {},
   "outputs": [],
   "source": [
    "# drop first row as it is NaN and fit the min difference to linear\n",
    "p3 = Ne_SF['difference'].drop([0,1])"
   ]
  },
  {
   "cell_type": "code",
   "execution_count": 152,
   "metadata": {},
   "outputs": [],
   "source": [
    "# mask array greater than 5 to avoid outliers\n",
    "p3_mask = p3 < 10\n",
    "p3 = p3[p3_mask]"
   ]
  },
  {
   "cell_type": "code",
   "execution_count": 160,
   "metadata": {},
   "outputs": [
    {
     "data": {
      "image/png": "[encoded data removed]",
      "text/plain": [
       "<Figure size 1440x576 with 2 Axes>"
      ]
     },
     "metadata": {
      "needs_background": "light"
     },
     "output_type": "display_data"
    }
   ],
   "source": [
    "from sklearn import mixture\n",
    "# plot difference in histogram and find peak value\n",
    "gmm = mixture.GaussianMixture(n_components=3, covariance_type='spherical', random_state=0)\n",
    "gmm.fit(p3.values.reshape(-1,1))\n",
    "gmmfit_X = np.linspace(p3.min(),p3.max(),150)\n",
    "# plot the histogram and the GMM fit on the same plot\n",
    "fig, ax = plt.subplots(figsize=(20,8))\n",
    "ax2 = ax.twinx()\n",
    "ax.hist(p3, bins=150, density=True, label='data')\n",
    "ax2.plot(gmmfit_X, gmm.score_samples(gmmfit_X.reshape(-1,1)), label='GMM', color='red')\n",
    "# retrieve the mean and standard deviation of the fitted distribution\n",
    "udE_3p3s = gmm.means_\n",
    "std = gmm.covariances_"
   ]
  },
  {
   "cell_type": "code",
   "execution_count": 172,
   "metadata": {},
   "outputs": [
    {
     "name": "stdout",
     "output_type": "stream",
     "text": [
      "Energy difference measurements (V)\n",
      "[[1.88099002]\n",
      " [5.73359475]\n",
      " [9.24004783]]\n",
      "Measured average energy difference 3p-3s for neon: 1.88 eV\n"
     ]
    }
   ],
   "source": [
    "print('Energy difference measurements (V)')\n",
    "print(udE_3p3s)\n",
    "print('Measured average energy difference 3p-3s for neon: {:.2f} eV'.format(float(udE_3p3s[0])))"
   ]
  },
  {
   "cell_type": "markdown",
   "metadata": {},
   "source": [
    "## Mercury Analysis\n",
    "\n",
    "Calibration first.  Fit a line to the calibration data, create a calibration function."
   ]
  },
  {
   "cell_type": "code",
   "execution_count": null,
   "metadata": {},
   "outputs": [],
   "source": [
    "# Show calibration data "
   ]
  },
  {
   "cell_type": "code",
   "execution_count": null,
   "metadata": {},
   "outputs": [],
   "source": [
    "# fit it and get the constants\n"
   ]
  },
  {
   "cell_type": "code",
   "execution_count": null,
   "metadata": {},
   "outputs": [],
   "source": [
    "# Make and test calibration function\n"
   ]
  },
  {
   "cell_type": "markdown",
   "metadata": {},
   "source": [
    "### Apply the calibration\n",
    "\n",
    "Change peak/trough positions into voltages."
   ]
  },
  {
   "cell_type": "code",
   "execution_count": null,
   "metadata": {
    "scrolled": true
   },
   "outputs": [],
   "source": [
    "# Show the Hg peak/trough ositions "
   ]
  },
  {
   "cell_type": "code",
   "execution_count": null,
   "metadata": {},
   "outputs": [],
   "source": [
    "# Calibrate \n",
    "# Recommended: make a new Dataframe.\n"
   ]
  },
  {
   "cell_type": "markdown",
   "metadata": {},
   "source": [
    "### Plot and check"
   ]
  },
  {
   "cell_type": "code",
   "execution_count": null,
   "metadata": {},
   "outputs": [],
   "source": [
    "plt.figure(figsize=(12,8))\n",
    "plt.grid()\n",
    "plt.title('Mercury Franck-Hertz Analysis',fontsize=14)\n",
    "plt.ylabel('Peak/Trough Position (V)',fontsize=14)\n",
    "plt.xlabel('Peak/Trough Number',fontsize=14)\n",
    "#\n",
    "#  Your code here\n",
    "#\n",
    "plt.legend();"
   ]
  },
  {
   "cell_type": "markdown",
   "metadata": {},
   "source": [
    "### Fit positions\n",
    "\n",
    "As before, fit the peak and trough positions to a line (\"traditional\") and a quadratic (part of RSB method).  Save the parameters."
   ]
  },
  {
   "cell_type": "code",
   "execution_count": null,
   "metadata": {
    "scrolled": false
   },
   "outputs": [],
   "source": [
    "# Line fit, troughs"
   ]
  },
  {
   "cell_type": "code",
   "execution_count": null,
   "metadata": {},
   "outputs": [],
   "source": [
    "# Quadratic fit, troughs"
   ]
  },
  {
   "cell_type": "code",
   "execution_count": null,
   "metadata": {},
   "outputs": [],
   "source": [
    "# Line fit, peaks"
   ]
  },
  {
   "cell_type": "code",
   "execution_count": null,
   "metadata": {},
   "outputs": [],
   "source": [
    "# Quadratic fit, peaks"
   ]
  },
  {
   "cell_type": "markdown",
   "metadata": {},
   "source": [
    "### Make a plot\n",
    "\n",
    "Show, on a single plot, the peak positions, the trough positions (both as dots) with fit lines and fit curves for each.  One member of the grou should include this plot in your Group Document."
   ]
  },
  {
   "cell_type": "code",
   "execution_count": null,
   "metadata": {},
   "outputs": [],
   "source": [
    "# For a smooth curve make an x range with a bunch of points.  100 should be fine.\n",
    "xfit = np.linspace(0,7.5,100) \n",
    "trough_line = line.eval(Hg_troughs_line,x=xfit)\n",
    "# \n",
    "# Etc."
   ]
  },
  {
   "cell_type": "markdown",
   "metadata": {},
   "source": [
    "### Calculate peak/trough differences\n",
    "\n",
    "As before, carry out the RSB approach as they describe it, by taking the <i>differences</i> in the positions of subsequent features to create an array $\\Delta E(n) = E_n - E_{n-1}$; note $n$ is the upper number.\n",
    "\n",
    "Then, plot and fit these to a line.  The energy of the lowest excited state should be given by $\\Delta E(0.5)$.  Save the fit parameters as before."
   ]
  },
  {
   "cell_type": "code",
   "execution_count": null,
   "metadata": {},
   "outputs": [],
   "source": [
    "# Same process as before, except you have more data points.\n",
    "# Recommended: use Python \"List comprehensions\"\n",
    "\n",
    "# Your code here\n",
    "\n",
    "print('List of Hg peak differences (V):', Hg_peak_diffs)\n",
    "print('List of Hg trough differences (V):', Hg_trough_diffs)"
   ]
  },
  {
   "cell_type": "code",
   "execution_count": null,
   "metadata": {
    "scrolled": false
   },
   "outputs": [],
   "source": [
    "# Line fit to trough diffs"
   ]
  },
  {
   "cell_type": "code",
   "execution_count": null,
   "metadata": {},
   "outputs": [],
   "source": [
    "# Line fit to peak diffs"
   ]
  },
  {
   "cell_type": "markdown",
   "metadata": {},
   "source": [
    "### Make a differences plot\n",
    "\n",
    "Show, on a single plot, the peak position differences, the trough position differences (both as dots) with fit lines for each.  One member of the grou should include this plot in your Group Document."
   ]
  },
  {
   "cell_type": "code",
   "execution_count": null,
   "metadata": {},
   "outputs": [],
   "source": [
    "# Plot"
   ]
  },
  {
   "cell_type": "markdown",
   "metadata": {},
   "source": [
    "## Final results for Hg\n",
    "\n",
    "Calculate the losest excited state energy, as was done for neon. "
   ]
  },
  {
   "cell_type": "code",
   "execution_count": null,
   "metadata": {},
   "outputs": [],
   "source": [
    "print('CONISISTENCY CHECK OF FIT COEFFICIENTS IN RSB METHOD')\n",
    "print('Troughs analysis:')\n",
    "# Your code here\n",
    "print('p ?= b-a: {:.2f} ?= {:.2f} = {:.2f}-{:.2f}'.format(p,b-a,b,a))\n",
    "print('m ?= 2a: {:.2f} ?= {:.2f} = 2*{:.2f}'.format(m,2*a,a))\n",
    "\n",
    "print('\\nPeaks analysis:')\n",
    "# Your code here\n",
    "print('p ?= b-a: {:.2f} ?= {:.2f} = {:.2f}-{:.2f}'.format(p,b-a,b,a))\n",
    "print('m ?= 2a: {:.2f} ?= {:.2f} = 2*{:.2f}'.format(m,2*a,a))\n",
    "\n",
    "print('\\n\\nCALCULATION OF FIRST EXCITED STATE OF NEON FROM DIFFERENT METHODS')\n",
    "\n",
    "# Your code here\n",
    "print('\"Traditional\" average peak spacing: {:.2uP} V'.format(Ea_trad_pk))\n",
    "print('\"Traditional\" average trough spacing: {:.2uP} V'.format(Ea_trad_tr))\n",
    "\n",
    "# From quadratic fit, see E_a as parameter b\n",
    "# From RSB n=1/2 method, E_a = p + m/2\n",
    "\n",
    "# Your code here\n",
    "\n",
    "print('\\nRSB method using line fit to peak/trough position differences')\n",
    "\n",
    "# Your code here\n",
    "\n",
    "print('\\nRSB method using quadratic fit to peak/trough positions')\n",
    "\n",
    "# Your code here\n"
   ]
  },
  {
   "cell_type": "markdown",
   "metadata": {},
   "source": [
    "## Calculation of mean free path $\\lambda$\n",
    "\n",
    "The parameter $\\lambda/L$ contains the mean free path between electron collisions.  Calculate this value for Hg given the measureable distance between the cathode and grid $L$.  See photos of the apparatus to obtain this value.\n",
    "\n",
    "NOTE: You cannot use the word `lambda` as a variable in Python.  It is a keyword (something that is defined by the language)."
   ]
  },
  {
   "cell_type": "code",
   "execution_count": null,
   "metadata": {},
   "outputs": [],
   "source": [
    "## Your code here.  Use uncertainty objects and uncertainties in fit parameters to get uncertainty in mean free path.\n",
    "\n",
    "\n",
    "print('CALCULATION OF MEAN FREE PATH, RSB METHOD\\n')\n",
    "#print('Mean free path from troughs fit = {:.2uP} cm'.format(())\n",
    "#print('Mean free path from peaks fit = {:.2uP} cm'.format(())\n",
    "\n",
    "# Print comparison to RSB results"
   ]
  },
  {
   "cell_type": "code",
   "execution_count": null,
   "metadata": {},
   "outputs": [],
   "source": []
  }
 ],
 "metadata": {
  "kernelspec": {
   "display_name": "Python 3",
   "language": "python",
   "name": "python3"
  },
  "language_info": {
   "codemirror_mode": {
    "name": "ipython",
    "version": 3
   },
   "file_extension": ".py",
   "mimetype": "text/x-python",
   "name": "python",
   "nbconvert_exporter": "python",
   "pygments_lexer": "ipython3",
   "version": "3.8.12"
  }
 },
 "nbformat": 4,
 "nbformat_minor": 2
}
